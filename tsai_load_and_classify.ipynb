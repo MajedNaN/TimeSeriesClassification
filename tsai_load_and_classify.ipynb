{
 "cells": [
  {
   "cell_type": "markdown",
   "metadata": {},
   "source": [
    "**Imports**"
   ]
  },
  {
   "cell_type": "code",
   "execution_count": 1,
   "metadata": {},
   "outputs": [],
   "source": [
    "import pandas as pd\n",
    "import torch\n",
    "import torch.optim as optim\n",
    "import torchvision\n",
    "import torchvision.transforms as transforms\n",
    "from torch.utils.data import Dataset,TensorDataset, DataLoader\n",
    "import os \n",
    "%matplotlib inline\n",
    "import matplotlib.pyplot as plt\n",
    "import datetime as dt \n",
    "import pytz\n",
    "import seaborn as sns\n",
    "from random import shuffle\n",
    "from tsai.all import *\n",
    "from sklearn.preprocessing import LabelEncoder\n",
    "from sklearn.metrics import confusion_matrix,f1_score\n",
    "from sklearn.preprocessing import StandardScaler,MinMaxScaler\n",
    "\n"
   ]
  },
  {
   "cell_type": "markdown",
   "metadata": {},
   "source": [
    "**Loading annotated data**"
   ]
  },
  {
   "cell_type": "code",
   "execution_count": 2,
   "metadata": {},
   "outputs": [],
   "source": [
    "data_folder = '/scratch/smartairsense/data_annotated'\n",
    "\n",
    "prqt_file1 = os.path.join(data_folder,'annotated-office.parquet')\n",
    "prqt_file2 = os.path.join(data_folder,'2022-week39.parquet')\n",
    "prqt_file3 = os.path.join(data_folder,'2022-week40.parquet')\n",
    "prqt_file4 = os.path.join(data_folder,'2022-week41.parquet')\n",
    "prqt_file5 = os.path.join(data_folder,'2022-week42.parquet')\n",
    "prqt_file6 = os.path.join(data_folder,'2022-week43.parquet')"
   ]
  },
  {
   "cell_type": "code",
   "execution_count": null,
   "metadata": {},
   "outputs": [],
   "source": [
    "data1 = pd.read_parquet(prqt_file1 , engine='fastparquet')\n",
    "data2 = pd.read_parquet(prqt_file2 , engine='fastparquet')\n",
    "data3 = pd.read_parquet(prqt_file3 , engine='fastparquet')\n",
    "data4 = pd.read_parquet(prqt_file4 , engine='fastparquet')\n",
    "data5 = pd.read_parquet(prqt_file5 , engine='fastparquet')\n",
    "data6 = pd.read_parquet(prqt_file6 , engine='fastparquet')\n",
    "\n",
    "d1 = data1.copy()\n",
    "d2 = concat(data2,data3,data4,data5,data6)\n",
    "\n",
    "\n",
    "d1.reset_index(drop = True,inplace = True)\n",
    "d2.reset_index(drop = True,inplace = True)\n",
    "\n",
    "d1.columns=data1.columns\n",
    "d2.columns=data1.columns\n",
    "\n",
    "# shift columns person and window_open to the last\n",
    "\n",
    "last_index = len(d1.columns)\n",
    "\n",
    "person = d1.pop('person')\n",
    "d1.insert(last_index-1, 'person', person)\n",
    "window_open = d1.pop('window_open')\n",
    "d1.insert(last_index-1, 'window_open', window_open)\n",
    "person = d2.pop('person')\n",
    "d2.insert(last_index-1, 'person', person)\n",
    "window_open = d2.pop('window_open')\n",
    "d2.insert(last_index-1, 'window_open', window_open) \n",
    "\n",
    "data = concat(d1,d2)\n",
    "data.reset_index(drop = True,inplace=True)\n",
    "data.columns=d1.columns\n",
    "\n",
    "\n",
    "\n",
    "\n",
    "\n",
    "print(f'data shape: {data.shape}')\n",
    "d2"
   ]
  },
  {
   "cell_type": "markdown",
   "metadata": {},
   "source": [
    "**Encode target classes (person and window open) classes**"
   ]
  },
  {
   "cell_type": "code",
   "execution_count": null,
   "metadata": {},
   "outputs": [],
   "source": [
    "df1 = d1.copy()\n",
    "df2 = d2.copy()\n",
    "df = data.copy()\n",
    "\n",
    "le = LabelEncoder()\n",
    "le1 = LabelEncoder()\n",
    "le2 = LabelEncoder()\n",
    "\n",
    "labels = ['person','window_open']\n",
    "\n",
    "for label in labels:\n",
    "    le.fit(df[label])\n",
    "    le1.fit(df1[label])\n",
    "    le2.fit(df2[label])\n",
    "    df[label]=le.transform(df[label])\n",
    "    df1[label]=le1.transform(df1[label])\n",
    "    df2[label]=le2.transform(df2[label])\n",
    "    print(df[label].value_counts())\n",
    "    print(df1[label].value_counts())\n",
    "    print(df2[label].value_counts())\n",
    "\n",
    "print(df.shape)"
   ]
  },
  {
   "cell_type": "markdown",
   "metadata": {},
   "source": [
    "**select some columns to plot**"
   ]
  },
  {
   "cell_type": "code",
   "execution_count": null,
   "metadata": {},
   "outputs": [],
   "source": [
    "plot_cols = ['oxygen', 'co2','person','window_open']\n",
    "\n",
    "x = df.datetime\n",
    "\n",
    "# plot o2 and co2 \n",
    "for col in plot_cols[0:2]:\n",
    "    fig = plt.figure(figsize=(15,5))\n",
    "    plt.plot(x, df[col])\n",
    "    plt.xlabel('Date')\n",
    "    plt.title(col)\n",
    "#plot distribution of number of persons and window open\n",
    "for col in plot_cols[2:]:\n",
    "    fig = plt.figure()\n",
    "    plt.hist(df[col],label='Test set distribution')\n",
    "    plt.xlabel(f'\\n {col}')\n",
    "## Ticks labels - List must be in ascending order\n",
    "    plt.xticks(df[col].unique()) ### names of classes starting from 0\n",
    "    #sns.distplot(df[col], bins=100, kde=False)\n",
    "    plt.title(f'Distribution of {col}')\n",
    "    plt.legend()\n",
    "    plt.show()\n",
    "    # plt.figure()\n",
    "    # df[col].value_counts().plot.pie(autopct='%0.2f')\n",
    "\n"
   ]
  },
  {
   "cell_type": "markdown",
   "metadata": {},
   "source": [
    "**plot scaled data in one figure**"
   ]
  },
  {
   "cell_type": "code",
   "execution_count": null,
   "metadata": {},
   "outputs": [],
   "source": [
    "x = df.datetime\n",
    "fig = plt.figure(figsize=(15,5))\n",
    "\n",
    "plt.xlabel('Date')\n",
    "plt.plot(x, df['oxygen']-20,label='oxygen')\n",
    "plt.plot(x, df['person'],label='person')\n",
    "plt.plot(x, df['co2']/1000,label='co2')\n",
    "plt.plot(x, df['window_open'], label='window_open' )\n",
    "plt.legend()\n"
   ]
  },
  {
   "cell_type": "markdown",
   "metadata": {},
   "source": [
    "**filtering data**"
   ]
  },
  {
   "cell_type": "code",
   "execution_count": 7,
   "metadata": {},
   "outputs": [],
   "source": [
    "# h2s column has only NaN values, also drop timestamp,datetime,deviceid\n",
    "df.drop(columns=['h2s','timestamp','deviceid','datetime'],inplace=True)\n",
    "df1.drop(columns=['h2s','timestamp','deviceid','datetime'],inplace=True)\n",
    "df2.drop(columns=['h2s','timestamp','deviceid','datetime'],inplace=True)\n",
    "\n",
    "\n"
   ]
  },
  {
   "cell_type": "markdown",
   "metadata": {},
   "source": [
    "**Missing values, drop NAN**"
   ]
  },
  {
   "cell_type": "code",
   "execution_count": null,
   "metadata": {},
   "outputs": [],
   "source": [
    "missing1 = df1.isnull().sum(0).reset_index()\n",
    "missing2 = df2.isnull().sum(0).reset_index()\n",
    "missing1.columns = ['column', 'count']\n",
    "missing2.columns = ['column', 'count']\n",
    "\n",
    "missing1 = missing1.sort_values(by = 'count', ascending = False).loc[missing1['count'] > 0]\n",
    "missing1['percentage'] = missing1['count'] / float(df1.shape[0]) * 100\n",
    "ind1 = np.arange(missing1.shape[0])\n",
    "missing2 = missing2.sort_values(by = 'count', ascending = False).loc[missing2['count'] > 0]\n",
    "missing2['percentage'] = missing2['count'] / float(df2.shape[0]) * 100\n",
    "ind2 = np.arange(missing2.shape[0])\n",
    "\n",
    "fig, ax = plt.subplots()\n",
    "rects = ax.barh(ind1, missing1.percentage.values, color='r')\n",
    "ax.set_yticks(ind1)\n",
    "ax.set_yticklabels(missing1.column.values, rotation='horizontal')\n",
    "ax.set_xlabel(\"Precentage of missing values %\")\n",
    "plt.show()\n",
    "print ('maximum number of missing values per column= ',missing1['count'].max(),'\\n')\n",
    "print(missing1)\n",
    "\n",
    "fig, ax = plt.subplots()\n",
    "rects = ax.barh(ind2, missing2.percentage.values, color='r')\n",
    "ax.set_yticks(ind2)\n",
    "ax.set_yticklabels(missing2.column.values, rotation='horizontal')\n",
    "ax.set_xlabel(\"Precentage of missing values %\")\n",
    "plt.show()\n",
    "print ('maximum number of missing values per column= ',missing2['count'].max(),'\\n')\n",
    "print(missing2)\n",
    "\n",
    "#### substitute NaN values with mean \n",
    "## polynomial interpolation with degree > 1 uses index, also convert dtype to float to work\n",
    "\n",
    "df1.reset_index(drop=True,inplace=True)\n",
    "df1.interpolate(method='polynomial', order=1,inplace=True)\n",
    "\n",
    "df2.reset_index(drop=True,inplace=True)\n",
    "df2.interpolate(method='polynomial', order=1,inplace=True)\n",
    "## incase NaNs are at begining or end we drop those rows\n",
    "\n",
    "df1.dropna(axis=0,inplace=True)\n",
    "df1.reset_index(drop=True,inplace=True)\n",
    "\n",
    "df2.dropna(axis=0,inplace=True)\n",
    "df2.reset_index(drop=True,inplace=True)\n",
    "##############\n",
    "\n",
    "df = concat(df1,df2)\n",
    "df.reset_index(drop=True,inplace= True)\n",
    "df.columns=df1.columns\n",
    "\n",
    "\n",
    "\n",
    "\n"
   ]
  },
  {
   "cell_type": "markdown",
   "metadata": {},
   "source": [
    "**minimized dataset for our classification task**"
   ]
  },
  {
   "cell_type": "code",
   "execution_count": null,
   "metadata": {},
   "outputs": [],
   "source": [
    "\n",
    "print(df['person'].value_counts(),'\\n',df['window_open'].value_counts(),'\\n')\n",
    "\n",
    "#### combine classes of more than 1 person to 1 person as there exists too little of them\n",
    "lc = df.loc[lambda x: x['person'] > 1]\n",
    "df.loc[lc.index,'person'] = 1\n",
    "\n",
    "lc = df1.loc[lambda x: x['person'] > 1]\n",
    "df1.loc[lc.index,'person'] = 1\n",
    "\n",
    "lc = df2.loc[lambda x: x['person'] > 1]\n",
    "df2.loc[lc.index,'person'] = 1\n",
    "\n",
    "print(df['person'].value_counts(),'\\n',df['window_open'].value_counts(),'\\n')\n",
    "\n",
    "# #### remove rows with 3 (one row) and 4 person (2 rows)\n",
    "# lc = df.loc[lambda x: x['person'] == 3]\n",
    "# df.drop(lc.index,inplace=True)\n",
    "\n",
    "# lc = df.loc[lambda x: x['person'] == 4]\n",
    "# df.drop(lc.index,inplace=True)\n",
    "\n",
    "# df['person'].value_counts(),df['window_open'].value_counts()\n",
    "\n",
    "### Normalize data\n",
    "\n",
    "targets = df.filter(['person','window_open'])\n",
    "features = df.drop(columns=['person','window_open']) \n",
    "\n",
    "\n",
    "targets1 = df1.filter(['person','window_open'])\n",
    "features1 = df1.drop(columns=['person','window_open']) \n",
    "\n",
    "targets2 = df2.filter(['person','window_open'])\n",
    "features2 = df2.drop(columns=['person','window_open']) \n",
    "\n",
    "\n",
    "### minimized data\n",
    "\n",
    "df_mini1 = df1.filter(['oxygen','co2','sound','tvoc','person','window_open'])\n",
    "print(df_mini1.shape,'\\n',df_mini1['person'].value_counts(),'\\n',df_mini1['window_open'].value_counts(),'\\n')\n",
    "features_mini1 = features1.filter(['oxygen','co2','sound','tvoc'])\n",
    "# print(targets1.iloc[:,0].value_counts())\n",
    "\n",
    "df_mini2 = df2.filter(['oxygen','co2','sound','tvoc','person','window_open'])\n",
    "print(df_mini2.shape,'\\n',df_mini2['person'].value_counts(),'\\n',df_mini2['window_open'].value_counts(),'\\n')\n",
    "features_mini2 = features2.filter(['oxygen','co2','sound','tvoc'])\n",
    "# print(targets2.iloc[:,0].value_counts())\n",
    "\n",
    "\n"
   ]
  },
  {
   "cell_type": "markdown",
   "metadata": {},
   "source": [
    "**Correlation Matrix, drop highly correlated features**"
   ]
  },
  {
   "cell_type": "code",
   "execution_count": null,
   "metadata": {},
   "outputs": [],
   "source": [
    "corr = df.corr(min_periods=1000)\n",
    "high_corr = np.abs(corr)*100\n",
    "f, ax = plt.subplots(figsize=(19,14))\n",
    "sns.heatmap(high_corr, cbar=True,annot=True, square=True, fmt='.0f', \n",
    "            annot_kws={'size': 8},cmap='Greys')\n",
    "plt.title('Correlation Matrix')\n",
    "plt.show()\n",
    "\n",
    "##### drop 100% correlated features\n",
    "\n",
    "remove_list = ['pm10','pm2_5','humidity_abs']\n",
    "features.drop(columns=remove_list,inplace=True)\n",
    "features1.drop(columns=remove_list,inplace=True)\n",
    "features2.drop(columns=remove_list,inplace=True)\n",
    "\n",
    "corr = features.corr(min_periods=1000)\n",
    "high_corr = np.abs(corr)*100\n",
    "f, ax = plt.subplots(figsize=(19,14))\n",
    "sns.heatmap(high_corr, cbar=True,annot=True, square=True, fmt='.0f', \n",
    "            annot_kws={'size': 8},cmap='Greys')\n",
    "plt.title('Correlation Matrix after removing highly correlated features')\n",
    "plt.show()\n"
   ]
  },
  {
   "cell_type": "markdown",
   "metadata": {},
   "source": [
    "**Standardization function**"
   ]
  },
  {
   "cell_type": "code",
   "execution_count": 11,
   "metadata": {},
   "outputs": [],
   "source": [
    "def standardize(x,**k):\n",
    "    if len(k)==2:\n",
    "        size = x.shape[1]\n",
    "        if 'mean' in k and 'std' in k: #standard\n",
    "            mean = k['mean']\n",
    "            std = k['std']\n",
    "            if x.ndim == 3: ### in case of segments\n",
    "                x=(x-np.array(mean).reshape(1,size,1))/np.array(std).reshape(1,size,1) # to be applied tp features correctly\n",
    "            elif x.ndim == 2: ### in case of data before segmentation\n",
    "                x=(x-np.array(mean).reshape(1,size))/np.array(std).reshape(1,size)\n",
    "        elif 'min' in k and 'max' in k: #minmax\n",
    "            min = k['min']\n",
    "            max = k['max']\n",
    "            if x.ndim == 3:\n",
    "                x=(x-np.array(min).reshape(1,size,1))/((np.array(max)-np.array(min)).reshape(1,size,1)) \n",
    "            elif x.ndim == 2:\n",
    "                x=(x-np.array(min).reshape(1,size))/((np.array(max)-np.array(min)).reshape(1,size) )\n",
    "    return x.astype(np.float32)"
   ]
  },
  {
   "cell_type": "code",
   "execution_count": 12,
   "metadata": {},
   "outputs": [],
   "source": [
    "# ### test standardize\n",
    "# t = np.array([[[1,2],[3,4]],[[5,6],[7,8]],[[5,6],[7,8]]])\n",
    "# sh = t.shape\n",
    "# print(t)\n",
    "# # print(t - np.array([1,0]).reshape(1,2,1))\n",
    "# mean = [1,0]\n",
    "# std = [2,1]\n",
    "# t = standardize(t,min = mean,max = std)\n",
    "# print(t)"
   ]
  },
  {
   "cell_type": "markdown",
   "metadata": {},
   "source": [
    "**sliding over data**"
   ]
  },
  {
   "cell_type": "code",
   "execution_count": 12,
   "metadata": {},
   "outputs": [],
   "source": [
    "def sliding(window,stride,features,targets,start=0):\n",
    "\n",
    "    x = []\n",
    "    y = []\n",
    "    count = 0\n",
    "    i=start\n",
    "    length = window + i\n",
    "    size = features.shape[0]\n",
    "    while  length <= size :\n",
    "        x.append(features.iloc[i:i+window].values.tolist())\n",
    "        y.append(targets.iloc[i])\n",
    "        i += stride\n",
    "        length = window + i\n",
    "        count += 1\n",
    "    x = np.array(x,dtype=np.float32)#.reshape((count,features.shape[1], window))\n",
    "    x = np.transpose(x, (0, 2, 1)) ## to have correct segmentation shape (#samples,#features,seq_len)\n",
    "    ### to be compatible with torch\n",
    "    try:\n",
    "        sh = targets.shape[1]\n",
    "    except:\n",
    "        sh = 1\n",
    "    y = np.array(y,dtype=np.float32).reshape(-1,sh)\n",
    "    return x,y\n",
    "\n",
    "#### Grouping 0,1,2,... and stitching then slicing (destroys time series !!!)\n",
    "# def sliding(window,stride,features,target):\n",
    "\n",
    "#     df = pd.concat([features,target],axis=1)\n",
    "#     df_g = df.groupby(df.columns[-1])\n",
    "\n",
    "#     x=[]\n",
    "#     y=[]\n",
    "#     count = 0\n",
    "\n",
    "#     for key, item in df_g:\n",
    "#             i = 0\n",
    "#             length = window\n",
    "#             size = df_g.get_group(key).shape[0]\n",
    "#             while  length <= size :\n",
    "#                 x.append(df_g.get_group(key).iloc[i:i+window,0:-1].values.tolist())\n",
    "#                 y.append(df_g.get_group(key).iloc[0,-1])\n",
    "#                 i += stride\n",
    "#                 length = window + i\n",
    "#                 count += 1\n",
    "#     x = np.array(x,dtype=np.float32)#.reshape((count,features.shape[1], window))\n",
    "#     x = np.transpose(x, (0, 2, 1))\n",
    "#     y = np.array(y,dtype=np.int)#reshape(-1)\n",
    "#     return x,y"
   ]
  },
  {
   "cell_type": "code",
   "execution_count": 14,
   "metadata": {},
   "outputs": [],
   "source": [
    "# ### testing sliding\n",
    "\n",
    "# _features = pd.DataFrame({'x': [0,1,2,3,4,5,6,7,8,9],'z': [0,1,2,3,4,5,6,7,8,9]})\n",
    "# _targets = pd.DataFrame({'y': [0,0,1,1,1,0,1,1,0,0],'m': [2,2,2,3,3,2,3,2,3,2]}) \n",
    "# df3 = pd.concat([_features,_targets],axis=1)\n",
    "# print(df3)\n",
    "# # _x,_y= SlidingWindow(3,2,get_x=[0,1],get_y=[2,3],horizon = 3)(df3)\n",
    "# _x,_y = sliding(3,2,_features,_targets)\n",
    "# print(_x.shape,_y.shape,_x,_y)"
   ]
  },
  {
   "cell_type": "markdown",
   "metadata": {},
   "source": [
    "**UnderSampling**"
   ]
  },
  {
   "cell_type": "code",
   "execution_count": 13,
   "metadata": {},
   "outputs": [],
   "source": [
    "\n",
    "def under_sample(data, size ,seq_len,stride,standardize=0):\n",
    "    x_list = []\n",
    "    y_list = []\n",
    "    f_list = [] # for standardizing the whole data before segmentation\n",
    "   \n",
    "    data.reset_index(drop=True,inplace = True)\n",
    "    lc = data[(data.loc[:,'person']>0) | (data.loc[:,'window_open']>0)]\n",
    "    indices = lc.index\n",
    "\n",
    "    while (len(indices) > 0): \n",
    "        left = indices[0] # choose the most left index contains 1\n",
    "        if left - size < 0: # outside values to avoid empty list from left\n",
    "            window = data.iloc[:left+size+1]\n",
    "        else:\n",
    "            window = data.iloc[left-size : left+size+1]\n",
    "        #get features,targets for sliding\n",
    "        f = window.drop(columns = ['person','window_open'])\n",
    "        t = window.filter(['person','window_open'])\n",
    "\n",
    "        f_list.append(f.to_numpy(dtype = float))\n",
    "      \n",
    "\n",
    "\n",
    "        _x,_y = sliding(seq_len,stride,f,t)\n",
    "        x_list.append(_x)\n",
    "        y_list.append(_y)\n",
    "        \n",
    "        #drop selected window values, if count < window, finished undersampling\n",
    "        try:\n",
    "            data = data.drop(index = range(0,left+size+1))\n",
    "        except:\n",
    "            break\n",
    "        data.reset_index(drop=True,inplace = True)\n",
    "        \n",
    "        #recalculate indices of 1s\n",
    "        lc = data[(data.loc[:,'person']>0) | (data.loc[:,'window_open']>0)]\n",
    "        indices = lc.index\n",
    "        \n",
    "    # convert lists to correct shape  for segmentation and standardization\n",
    "    X = x_list[0]\n",
    "    y = y_list[0]\n",
    "    feat = f_list[0]\n",
    "\n",
    "    for i in range(1,len(x_list)):\n",
    "        X= concat(X,x_list[i])\n",
    "        y= concat(y,y_list[i])\n",
    "    for i in range(1,len(f_list)):\n",
    "        feat = concat(feat,f_list[i])\n",
    "    \n",
    "    \n",
    "    # standardize the whole data, apply params later to segments\n",
    "    if standardize == 1:\n",
    "        mean = feat.mean(axis=0)\n",
    "        std = feat.std(axis=0)\n",
    "        return X,y,mean,std\n",
    "    elif standardize == 2:\n",
    "        min = feat.min(axis=0)\n",
    "        max = feat.max(axis=0)\n",
    "        return X,y,min,max\n",
    "    else:\n",
    "        return X,y\n",
    "    \n",
    "\n"
   ]
  },
  {
   "cell_type": "code",
   "execution_count": 16,
   "metadata": {},
   "outputs": [],
   "source": [
    "# ### testing undersampling\n",
    "# test = pd.DataFrame([[1,2,0,0],[3,4,0,1],[5,6,0,0],[7,8,1,1],[9,10,0,0],[11,12,0,0],[13,14,0,0],[15,16,1,0],[15,16,1,0]],columns=['x','y','person','window_open'])\n",
    "# print(test)\n",
    "# t = test.filter(['person','window_open'])\n",
    "# f = test.drop(columns = ['person','window_open'])\n",
    "# X,y,mean ,std =under_sample(test,2,2,1,standardize=1)\n",
    "# print(X.shape,y.shape,'\\n',X,y)\n",
    "# # print(X,y)\n",
    "# print(mean,std)\n",
    "# print(standardize(X,mean=mean,std=std))\n",
    "# print(X.shape,y.shape)\n"
   ]
  },
  {
   "cell_type": "markdown",
   "metadata": {},
   "source": [
    "**ConvModel**"
   ]
  },
  {
   "cell_type": "code",
   "execution_count": 14,
   "metadata": {},
   "outputs": [],
   "source": [
    "# # import torch.nn.functional as F\n",
    "\n",
    "# class ConvNet(Module):\n",
    "    \n",
    "#     def __init__(self,n_features,n_classes):\n",
    "#         super(ConvNet,self).__init__()\n",
    "#         self.layer1 = torch.nn.Sequential(\n",
    "#             torch.nn.Conv1d(n_features, 32, kernel_size=3, stride=1,padding=0),\n",
    "#             torch.nn.ReLU(),\n",
    "#             torch.nn.MaxPool1d(kernel_size=2),\n",
    "#             torch.nn.Dropout(0.3))\n",
    "\n",
    "#         self.fc1 = torch.nn.Linear(6 * 32, 10, bias=True) ## 15 (window size) - 2 (cause of filter) / 2 (pooling) = 6\n",
    "#         torch.nn.init.xavier_uniform(self.fc1.weight)\n",
    "#         self.layer2 = torch.nn.Sequential(\n",
    "#             self.fc1,\n",
    "#             torch.nn.ReLU(),\n",
    "#             torch.nn.Dropout(p=0.7))\n",
    "#         self.fc2 = nn.Linear(10,n_classes)\n",
    "#         torch.nn.init.xavier_uniform_(self.fc2.weight)\n",
    "       \n",
    "    \n",
    "#     def forward(self, x):\n",
    "#         x = self.layer1(x)\n",
    "#         x = torch.flatten(x,start_dim=1)\n",
    "#         x = self.layer2(x)\n",
    "#         out = self.fc2(x)\n",
    "#         out = nn.Sigmoid()(out) # do not use if loss function includes the sigmoid\n",
    "#         return out\n",
    "\n"
   ]
  },
  {
   "cell_type": "markdown",
   "metadata": {},
   "source": [
    "**Perform undersampling, standardization and segmentation**"
   ]
  },
  {
   "cell_type": "code",
   "execution_count": 23,
   "metadata": {},
   "outputs": [
    {
     "data": {
      "text/plain": [
       "((4018, 17, 15), (4018, 2))"
      ]
     },
     "execution_count": 23,
     "metadata": {},
     "output_type": "execute_result"
    }
   ],
   "source": [
    "under_window = 30\n",
    "seq_len = 15\n",
    "stride = 1\n",
    "standard_mode = 1 ## normalize\n",
    "\n",
    "# reset index \n",
    "# df_mini.reset_index(drop=True)\n",
    "# features_mini.reset_index(drop=True)\n",
    "# targets.reset_index(drop=True)\n",
    "#t = df_mini.values\n",
    "#X, y = SlidingWindow(window_len=window , stride = stride, get_x = [0,1], get_y = [2])(df_mini)\n",
    "\n",
    "## undersampling and sliding\n",
    "X1,y1,mean1,std1 = under_sample(df1,under_window,seq_len,stride,standard_mode)\n",
    "X2,y2,mean2,std2 = under_sample(df1,under_window,seq_len,stride,standard_mode)\n",
    "### standardizing\n",
    "X1_ = standardize(X1,mean = mean1, std = std1)\n",
    "X2_ = standardize(X2,mean = mean2, std = std2)\n",
    "\n",
    "# # standardize the whole data\n",
    "\n",
    "# features_mini1 = standardize(features_mini1,mean = features_mini1.mean(axis=0),std = features_mini1.std(axis=0))\n",
    "# features_mini2 = standardize(features_mini2,mean = features_mini2.mean(axis=0),std = features_mini2.std(axis=0))\n",
    "\n",
    "# ## sliding the whole data\n",
    "# X1_,y1 = sliding(seq_len,stride,features_mini1,targets1)#.loc[:,'person'])\n",
    "# X2_,y2 = sliding(seq_len,stride,features_mini2,targets2)#.loc[:,'person'])\n",
    "\n",
    "\n",
    "X = concat(X1_,X2_)\n",
    "y = concat(y1,y2)\n",
    "X.shape, y.shape\n"
   ]
  },
  {
   "cell_type": "code",
   "execution_count": 20,
   "metadata": {},
   "outputs": [
    {
     "name": "stdout",
     "output_type": "stream",
     "text": [
      "<class 'numpy.ndarray'>\n",
      "float32\n"
     ]
    }
   ],
   "source": [
    "print(type(y))\n",
    "print(X.dtype)"
   ]
  },
  {
   "cell_type": "code",
   "execution_count": 21,
   "metadata": {},
   "outputs": [],
   "source": [
    "# m = nn.Conv1d(2, 16, 3, stride=1)\n",
    "# n=torch.nn.MaxPool1d(kernel_size=2)\n",
    "\n",
    "# input = torch.randn(64, 2, 15)\n",
    "# output = m(input)\n",
    "# output = n(output)\n",
    "# print(output.shape)\n",
    "# print(nn.Sigmoid()(output))"
   ]
  },
  {
   "cell_type": "markdown",
   "metadata": {},
   "source": [
    "**!!!!!!!!!!! \n",
    "training (does not work well for confusion matrix as it shuffle data again with labels)**"
   ]
  },
  {
   "cell_type": "code",
   "execution_count": 22,
   "metadata": {},
   "outputs": [],
   "source": [
    "\n",
    "# # splits = TimeSplitter()(y)\n",
    "# splits = TrainValidTestSplitter()(y)\n",
    "# tfms  = [ToFloat(), TSClassification()] \n",
    "# batch_tfms = TSStandardize()\n",
    "# dsets = TSDatasets(X, y, tfms=tfms, splits=splits)\n",
    "\n",
    "# dls = get_ts_dls(X, y, tfms=tfms,splits=splits, batch_tfms=batch_tfms, bs=32)\n",
    "# plot_splits(splits)\n",
    "# print(df_mini)\n",
    "# dsets[0][0].data, dsets[0][1].data"
   ]
  },
  {
   "cell_type": "code",
   "execution_count": 23,
   "metadata": {},
   "outputs": [],
   "source": [
    "# print(X[splits[0][0]])"
   ]
  },
  {
   "cell_type": "markdown",
   "metadata": {},
   "source": [
    "**Training and validation**"
   ]
  },
  {
   "cell_type": "code",
   "execution_count": 24,
   "metadata": {},
   "outputs": [],
   "source": [
    "\n",
    "# learn = TSClassifier(X, y, splits=splits, lr = 1e-5, arch=InceptionTimePlus, arch_config=dict(depth=4,act=nn.ReLU,fc_dropout=.5), batch_tfms=batch_tfms, metrics=accuracy, cbs=ShowGraph())\n",
    "\n",
    "# learn.fit_one_cycle(10)\n",
    "# learn.export(\"models/learn.pkl\")"
   ]
  },
  {
   "cell_type": "code",
   "execution_count": 25,
   "metadata": {},
   "outputs": [],
   "source": [
    "# interp = ClassificationInterpretation.from_learner(learn)\n",
    "# print(interp)\n",
    "# interp.plot_confusion_matrix()"
   ]
  },
  {
   "cell_type": "markdown",
   "metadata": {},
   "source": [
    "**Ploting Confusion Matrix**\n"
   ]
  },
  {
   "cell_type": "code",
   "execution_count": 62,
   "metadata": {},
   "outputs": [],
   "source": [
    "def plot_confusion(y_true,y_pred,n_classes,name):\n",
    "    cf_matrix=confusion_matrix(y_true,y_pred)\n",
    "\n",
    "\n",
    "    plt.figure()\n",
    "\n",
    "    group_counts = [\"{0:0.0f}\".format(value) for value in cf_matrix.flatten()]\n",
    "\n",
    "    group_percentages = [\"{0:.2%}\".format(value) for value in cf_matrix.flatten()/np.sum(cf_matrix)]\n",
    "\n",
    "    labels = [f\"{v1}\\n{v2}\\n\" for v1, v2 in zip(group_counts,group_percentages)]\n",
    "\n",
    "    labels = np.asarray(labels).reshape(n_classes,n_classes)  # 2: number of classes\n",
    "\n",
    "    ax = sns.heatmap(cf_matrix, annot=labels, fmt='', cmap='Blues',cbar = False)\n",
    "    ax.set_title(f'Confusion Matrix of class {name}\\n');\n",
    "    ax.set_xlabel('\\nPredicted Classes')\n",
    "    ax.set_ylabel('Actual Classes ');\n",
    "\n",
    "## Ticket labels - List must be in alphabetical order\n",
    "    # ax.xaxis.set_ticklabels(['Not Setting','Setting']) ### names of classes starting from 0\n",
    "    # ax.yaxis.set_ticklabels(['Not Setting','Setting'])\n",
    "\n",
    "## Display the visualization of the Confusion Matrix.\n",
    "    plt.show()"
   ]
  },
  {
   "cell_type": "markdown",
   "metadata": {},
   "source": [
    "**SMOTE Oversampling (destroys the time series !!!)**"
   ]
  },
  {
   "cell_type": "code",
   "execution_count": 27,
   "metadata": {},
   "outputs": [],
   "source": [
    "# from imblearn.over_sampling import SMOTE,KMeansSMOTE\n",
    "# from sklearn.model_selection import train_test_split\n",
    "\n",
    "# ##### NOTE THE SHUFFLE AND TIME SERIES\n",
    "# x_train, x_valid, y_train, y_valid = train_test_split(df_mini.iloc[:,0:-1], df_mini.iloc[:,-1], test_size=0.2, shuffle=False)\n",
    "\n",
    "# print(y_train.value_counts())\n",
    "# ### get array of dataset train and target\n",
    "\n",
    "# # train = to_np(dsets.train[:][0])\n",
    "# # tar = to_np(dsets.train[:][1])\n",
    "# # print(tar.shape,train.shape)\n",
    "\n",
    "\n",
    "# ### Apply SMOTE only on train dataset to avoid data leakage\n",
    "# sm = SMOTE(random_state=42,sampling_strategy={1:20000,2:10000})\n",
    "\n",
    "# x_res, y_res = sm.fit_resample(x_train, y_train)\n",
    "# print(y_res.value_counts())\n",
    "\n",
    "# ### create sliding windows\n",
    "# x_train,y_train = sliding(window,stride,x_res,y_res)\n",
    "# x_valid,y_valid = sliding(window,stride,x_valid,y_valid)\n",
    "# print(x_train.shape,y_train.shape,x_valid.shape,y_valid.shape)\n",
    "\n"
   ]
  },
  {
   "cell_type": "markdown",
   "metadata": {},
   "source": [
    "**pytorch Dataset and Dataloaders**"
   ]
  },
  {
   "cell_type": "code",
   "execution_count": 24,
   "metadata": {},
   "outputs": [],
   "source": [
    "# tfms = transforms.Compose(\n",
    "#     [transforms.ToTensor()])\n",
    "#      #transforms.Normalize((0.5, 0.5, 0.5), (0.5, 0.5, 0.5))])\n",
    "\n",
    "class MyDataSet(Dataset):\n",
    "    def __init__(self,X, y, transform=None):\n",
    "        self.n_samples = X.shape[0]\n",
    "        self.x = X\n",
    "        self.y = y\n",
    "        self.transform = transform\n",
    "    def __getitem__(self, index: Any):\n",
    "        sample = self.x[index],self.y[index]\n",
    "        if self.transform:\n",
    "            sample = self.transform(sample)\n",
    "        return sample\n",
    "    def __len__(self):\n",
    "        return self.n_samples\n",
    "class ToTensor:\n",
    "    def __call__(self, sample):\n",
    "        inputs, targets = sample\n",
    "        return torch.from_numpy(inputs), torch.from_numpy(targets)\n"
   ]
  },
  {
   "cell_type": "code",
   "execution_count": 25,
   "metadata": {},
   "outputs": [],
   "source": [
    "# ds = MyDataSet(X,y,transform=ToTensor())\n",
    "# bs = 32\n",
    "\n",
    "# splits = TrainValidTestSplitter()(y)\n",
    "\n",
    "# tsets = MyDataSet(X[splits[0]], y[splits[0]])#, transform=tfms) #train dataset\n",
    "# vsets = MyDataSet(X[splits[1]], y[splits[1]])#, transform=tfms) #valid dataset\n",
    "\n",
    "# tls = DataLoader(tsets, batch_size=bs, shuffle=False, num_workers=2)\n",
    "# vls = DataLoader(vsets, batch_size=bs, shuffle=False, num_workers=2)\n",
    "# classes = ('person','window_open')\n"
   ]
  },
  {
   "cell_type": "markdown",
   "metadata": {},
   "source": [
    "**MyFCN**"
   ]
  },
  {
   "cell_type": "code",
   "execution_count": 27,
   "metadata": {},
   "outputs": [],
   "source": [
    "class MyFCN(FCN):\n",
    "    def forward(self, x):\n",
    "        x = self.convblock1(x)\n",
    "        x = self.convblock2(x)\n",
    "        x = self.convblock3(x)\n",
    "        x = self.gap(x)\n",
    "        out = self.fc(x)\n",
    "        out = nn.Sigmoid()(out) # do not use if loss function includes the sigmoid\n",
    "        return out\n",
    "    \n",
    "    "
   ]
  },
  {
   "cell_type": "code",
   "execution_count": 28,
   "metadata": {},
   "outputs": [],
   "source": [
    "# class MyFCN(FCN):\n",
    "#     def __init__(self,c_in, c_out, layers=[128, 256, 128], kss=[7, 5, 3]):\n",
    "#         # super(MyFCN,self).__init__(c_in, c_out, layers, kss)\n",
    "#         assert len(layers) == len(kss)\n",
    "#         self.convblock1 = ConvBlock(c_in, layers[0], kss[0])\n",
    "#         self.convblock2 = ConvBlock(layers[0], layers[1], kss[1])\n",
    "#         self.convblock3 = ConvBlock(layers[1], layers[2], kss[2])\n",
    "#         self.gap = nn.AdaptiveAvgPool1d(1)\n",
    "#         self.fc = nn.Linear(layers[-1], c_out)\n",
    "#     def forward(self, x):\n",
    "#         x = self.convblock1(x)\n",
    "#         x = self.convblock2(x)\n",
    "#         x = self.convblock3(x)\n",
    "#         x = self.gap(x)\n",
    "#         x = torch.flatten(x,start_dim=1)\n",
    "#         out = self.fc(x)\n",
    "#         out = nn.Sigmoid()(out) # do not use if loss function includes the sigmoid\n",
    "#         return out\n",
    " \n",
    "    \n",
    "    "
   ]
  },
  {
   "cell_type": "markdown",
   "metadata": {},
   "source": [
    "**MyLSTM**"
   ]
  },
  {
   "cell_type": "code",
   "execution_count": 29,
   "metadata": {},
   "outputs": [],
   "source": [
    "class MyLSTM(LSTM):\n",
    "    def forward(self, x): \n",
    "        x = x.transpose(2,1)    # [batch_size x n_vars x seq_len] --> [batch_size x seq_len x n_vars]\n",
    "        output, _ = self.rnn(x) # output from all sequence steps: [batch_size x seq_len x hidden_size * (1 + bidirectional)]\n",
    "        output = output[:, -1]  # output from last sequence step : [batch_size x hidden_size * (1 + bidirectional)]\n",
    "        output = self.fc(self.dropout(output))\n",
    "        # return nn.Sigmoid()(output)\n",
    "        return output\n",
    "        \n"
   ]
  },
  {
   "cell_type": "markdown",
   "metadata": {},
   "source": [
    "**My learner**"
   ]
  },
  {
   "cell_type": "code",
   "execution_count": 65,
   "metadata": {},
   "outputs": [],
   "source": [
    "class MyLearner:\n",
    "    def __init__(self,X,y,model,splits,bs = 64, num_workers = 0,lr=0.001,tfms = None,epochs = 10,device = None,loss_func=nn.BCELoss,optimizer=optim.Adam):\n",
    "        self.tsets = MyDataSet(X[splits[0]], y[splits[0]], transform=tfms) #train dataset\n",
    "        self.vsets = MyDataSet(X[splits[1]], y[splits[1]], transform=tfms) #valid dataset\n",
    "        self.tls = DataLoader(self.tsets, batch_size=bs, shuffle=False, num_workers=num_workers)\n",
    "        self.vls = DataLoader(self.vsets, batch_size=bs, shuffle=False, num_workers=num_workers)\n",
    "        \n",
    "        self.num_workers = num_workers\n",
    "        self.bs = bs\n",
    "\n",
    "        if device == None: \n",
    "            self.device = torch.device('cuda' if torch.cuda.is_available() else 'cpu')\n",
    "        else:\n",
    "            self.device = torch.device(device)\n",
    "        self.model = model.to(self.device)\n",
    "\n",
    "        self.criterion = loss_func()\n",
    "        self.optimizer = optimizer(self.model.parameters(), lr)\n",
    "    \n",
    "    def fit(self,epochs=10):\n",
    "        tloss_list = []\n",
    "        vloss_list = []\n",
    "        acc_list = []\n",
    "        for epoch in range(epochs):\n",
    "\n",
    "            self.model.train()\n",
    "            train_loss =0\n",
    "            for inputs, labels in self.tls:\n",
    "\n",
    "                inputs = inputs.to(self.device)\n",
    "                labels = labels.to(self.device)\n",
    "                # Forward pass\n",
    "                outputs = self.model(inputs.float())\n",
    "                loss = self.criterion(outputs, labels)\n",
    "\n",
    "                # Backward and optimize\n",
    "                self.optimizer.zero_grad()\n",
    "                loss.backward()\n",
    "                self.optimizer.step()\n",
    "            train_loss = loss.item()\n",
    "\n",
    "            self.model.eval()\n",
    "            valid_loss =0\n",
    "            with torch.no_grad():\n",
    "                n_correct = 0\n",
    "                n_samples = 0\n",
    "            \n",
    "                for inputs, labels in self.vls:\n",
    "                    inputs = inputs.to(self.device)\n",
    "                    labels = labels.to(self.device)\n",
    "                    outputs = self.model(inputs)\n",
    "                # max returns (value ,index)\n",
    "                    predicted = torch.round(outputs)\n",
    "                    n_samples += labels.shape[0]\n",
    "                    n_correct += torch.all((predicted == labels),dim=1).sum() # for entire row accuracy use torch.all(....)\n",
    "                    vloss = self.criterion(outputs, labels)\n",
    "                valid_loss = vloss.item()\n",
    "            acc = 100.0 * n_correct / n_samples # for entire row accuracy divide by double of samples\n",
    "            acc_list.append(acc.cpu())\n",
    "            tloss_list.append(loss.item())\n",
    "            vloss_list.append(vloss.item())\n",
    "            print (f'Epoch [{epoch+1}], Training_Loss: {train_loss:.4f},valid_Loss: {valid_loss:.4f}, valid_accuracy: {acc:.4f}%')\n",
    "\n",
    "        print('Finished Training')\n",
    "        # PATH = './cnn.pth'\n",
    "        # torch.save(model.state_dict(), PATH)\n",
    "        x_axis = range(1,epochs+1)\n",
    "        plt.figure()\n",
    "        plt.plot(x_axis,vloss_list,label='valid_loss')\n",
    "        plt.plot(x_axis,tloss_list,label='train_loss')\n",
    "        plt.xlabel('epochs')\n",
    "        plt.legend()\n",
    "        plt.show \n",
    "        plt.figure()\n",
    "        plt.plot(x_axis,acc_list,label='valid_acc')\n",
    "        plt.xlabel('epochs')\n",
    "        plt.legend()\n",
    "        plt.show()\n",
    "    def eval(self,X,y):\n",
    "        \n",
    "        #for person\n",
    "        yp_true = []\n",
    "        yp_pred = []\n",
    "\n",
    "        # for window\n",
    "        yw_true = []\n",
    "        yw_pred = []\n",
    "\n",
    "        with torch.no_grad():\n",
    "            n_correct = 0\n",
    "            n_samples = 0\n",
    "            test_set = MyDataSet(X,y)\n",
    "            test_ls = DataLoader(test_set,batch_size=self.bs, shuffle=False, num_workers=self.num_workers)\n",
    "            for inputs, labels in test_ls:\n",
    "                inputs = inputs.to(device)\n",
    "                labels = labels.to(device)\n",
    "                outputs = self.model(inputs)\n",
    "                predicted = torch.round(outputs)\n",
    "                n_samples += labels.shape[0]\n",
    "                n_correct += torch.all((predicted == labels),dim=1).sum().item()\n",
    "            \n",
    "                # for confusion matrix\n",
    "\n",
    "                yp_pred.append(predicted[:,0].cpu().numpy())\n",
    "                yp_true.append(labels[:,0].cpu().numpy())\n",
    "\n",
    "                yw_pred.append(predicted[:,1].cpu().numpy())\n",
    "                yw_true.append(labels[:,1].cpu().numpy())\n",
    "\n",
    "                # for i in range(labels.shape[0]):\n",
    "                #     if torch.unique(labels[i]).size(0)==1:\n",
    "                #          y_true.append(1.0)\n",
    "                #     else:\n",
    "                #         y_true.append(0.0)\n",
    "                #     if torch.unique(predicted[i]).size(0)==1:\n",
    "                #          y_pred.append(1.0)\n",
    "                #     else:\n",
    "                #         y_pred.append(0.0)\n",
    "                        \n",
    "            acc = 100.0 * n_correct / n_samples\n",
    "            print(f'Accuracy: {acc:.4f}%')\n",
    "\n",
    "        yp_pred = [item for sublist in yp_pred for item in sublist]\n",
    "        yp_true = [item for sublist in yp_true for item in sublist]\n",
    "\n",
    "        yw_pred = [item for sublist in yw_pred for item in sublist]\n",
    "        yw_true = [item for sublist in yw_true for item in sublist]\n",
    "\n",
    "        ### person class\n",
    "        ### number of classes in validation set\n",
    "        n_classes = len(set(yp_true))\n",
    "        plot_confusion(yp_true,yp_pred,n_classes,name = 'person')\n",
    "        print(f'f1 score: {f1_score(yp_true,yp_pred)}\\n') # to get f1 score for each class use (average=None)\n",
    "\n",
    "\n",
    "        ### window class\n",
    "        ### number of classes in validation set\n",
    "        n_classes = len(set(yw_true))\n",
    "        plot_confusion(yw_true,yw_pred,n_classes,name = 'window')\n",
    "        print(f'f1 score: {f1_score(yw_true,yw_pred)}\\n') # to get f1 score for each class use (average=None)\n",
    "\n",
    "\n"
   ]
  },
  {
   "cell_type": "markdown",
   "metadata": {},
   "source": [
    "**Train**"
   ]
  },
  {
   "cell_type": "code",
   "execution_count": 66,
   "metadata": {},
   "outputs": [
    {
     "name": "stdout",
     "output_type": "stream",
     "text": [
      "Epoch [1], Training_Loss: 0.1991,valid_Loss: 0.0796, valid_accuracy: 87.6712%\n",
      "Epoch [2], Training_Loss: 0.0676,valid_Loss: 0.0430, valid_accuracy: 90.1619%\n",
      "Epoch [3], Training_Loss: 0.0419,valid_Loss: 0.0267, valid_accuracy: 93.8979%\n",
      "Epoch [4], Training_Loss: 0.0248,valid_Loss: 0.0206, valid_accuracy: 94.6451%\n",
      "Epoch [5], Training_Loss: 0.0162,valid_Loss: 0.0189, valid_accuracy: 94.5205%\n",
      "Epoch [6], Training_Loss: 0.0123,valid_Loss: 0.0166, valid_accuracy: 94.8941%\n",
      "Epoch [7], Training_Loss: 0.0113,valid_Loss: 0.0126, valid_accuracy: 95.0187%\n",
      "Epoch [8], Training_Loss: 0.0092,valid_Loss: 0.0103, valid_accuracy: 95.1432%\n",
      "Epoch [9], Training_Loss: 0.0061,valid_Loss: 0.0097, valid_accuracy: 95.3923%\n",
      "Epoch [10], Training_Loss: 0.0082,valid_Loss: 0.0072, valid_accuracy: 95.2677%\n",
      "Finished Training\n"
     ]
    },
    {
     "data": {
      "image/png": "[encoded data removed]",
      "text/plain": [
       "<Figure size 640x480 with 1 Axes>"
      ]
     },
     "metadata": {},
     "output_type": "display_data"
    },
    {
     "data": {
      "image/png": "[encoded data removed]",
      "text/plain": [
       "<Figure size 640x480 with 1 Axes>"
      ]
     },
     "metadata": {},
     "output_type": "display_data"
    }
   ],
   "source": [
    "# # model = ConvNet(X.shape[1],y.shape[1]).to(device)\n",
    "splits = TrainValidTestSplitter()(y)\n",
    "model = MyFCN(X.shape[1],y.shape[1])\n",
    "learn = MyLearner(X,y,model,splits)\n",
    "learn.fit()\n",
    "\n",
    "# criterion = nn.BCELoss()\n",
    "# optimizer = optim.Adam(model.parameters(), lr=0.01)\n",
    "\n"
   ]
  },
  {
   "cell_type": "markdown",
   "metadata": {},
   "source": [
    "**Evaluate on test data (here validation)**"
   ]
  },
  {
   "cell_type": "code",
   "execution_count": 67,
   "metadata": {},
   "outputs": [
    {
     "name": "stdout",
     "output_type": "stream",
     "text": [
      "Accuracy: 95.2677%\n"
     ]
    },
    {
     "data": {
      "image/png": "[encoded data removed]",
      "text/plain": [
       "<Figure size 640x480 with 1 Axes>"
      ]
     },
     "metadata": {},
     "output_type": "display_data"
    },
    {
     "name": "stdout",
     "output_type": "stream",
     "text": [
      "f1 score: 0.9540540540540541\n",
      "\n"
     ]
    },
    {
     "data": {
      "image/png": "[encoded data removed]",
      "text/plain": [
       "<Figure size 640x480 with 1 Axes>"
      ]
     },
     "metadata": {},
     "output_type": "display_data"
    },
    {
     "name": "stdout",
     "output_type": "stream",
     "text": [
      "f1 score: 0.9835390946502057\n",
      "\n"
     ]
    }
   ],
   "source": [
    "learn.eval(X[splits[1]],y[splits[1]])"
   ]
  },
  {
   "cell_type": "markdown",
   "metadata": {},
   "source": [
    "**tsai LEARNER**"
   ]
  },
  {
   "cell_type": "code",
   "execution_count": 68,
   "metadata": {},
   "outputs": [
    {
     "data": {
      "text/html": [
       "\n",
       "<style>\n",
       "    /* Turns off some styling */\n",
       "    progress {\n",
       "        /* gets rid of default border in Firefox and Opera. */\n",
       "        border: none;\n",
       "        /* Needs to be in here for Safari polyfill so background images work as expected. */\n",
       "        background-size: auto;\n",
       "    }\n",
       "    progress:not([value]), progress:not([value])::-webkit-progress-bar {\n",
       "        background: repeating-linear-gradient(45deg, #7e7e7e, #7e7e7e 10px, #5c5c5c 10px, #5c5c5c 20px);\n",
       "    }\n",
       "    .progress-bar-interrupted, .progress-bar-interrupted::-webkit-progress-bar {\n",
       "        background: #F44336;\n",
       "    }\n",
       "</style>\n"
      ],
      "text/plain": [
       "<IPython.core.display.HTML object>"
      ]
     },
     "metadata": {},
     "output_type": "display_data"
    },
    {
     "data": {
      "text/html": [
       "<table border=\"1\" class=\"dataframe\">\n",
       "  <thead>\n",
       "    <tr style=\"text-align: left;\">\n",
       "      <th>epoch</th>\n",
       "      <th>train_loss</th>\n",
       "      <th>valid_loss</th>\n",
       "      <th>accuracy_multi</th>\n",
       "      <th>time</th>\n",
       "    </tr>\n",
       "  </thead>\n",
       "  <tbody>\n",
       "    <tr>\n",
       "      <td>0</td>\n",
       "      <td>0.650922</td>\n",
       "      <td>0.572952</td>\n",
       "      <td>0.741594</td>\n",
       "      <td>00:00</td>\n",
       "    </tr>\n",
       "    <tr>\n",
       "      <td>1</td>\n",
       "      <td>0.369770</td>\n",
       "      <td>0.241493</td>\n",
       "      <td>0.892279</td>\n",
       "      <td>00:00</td>\n",
       "    </tr>\n",
       "    <tr>\n",
       "      <td>2</td>\n",
       "      <td>0.211147</td>\n",
       "      <td>0.178741</td>\n",
       "      <td>0.920299</td>\n",
       "      <td>00:00</td>\n",
       "    </tr>\n",
       "    <tr>\n",
       "      <td>3</td>\n",
       "      <td>0.138518</td>\n",
       "      <td>0.118565</td>\n",
       "      <td>0.951432</td>\n",
       "      <td>00:00</td>\n",
       "    </tr>\n",
       "    <tr>\n",
       "      <td>4</td>\n",
       "      <td>0.108636</td>\n",
       "      <td>0.094077</td>\n",
       "      <td>0.968244</td>\n",
       "      <td>00:00</td>\n",
       "    </tr>\n",
       "    <tr>\n",
       "      <td>5</td>\n",
       "      <td>0.084344</td>\n",
       "      <td>0.086298</td>\n",
       "      <td>0.969489</td>\n",
       "      <td>00:00</td>\n",
       "    </tr>\n",
       "    <tr>\n",
       "      <td>6</td>\n",
       "      <td>0.068994</td>\n",
       "      <td>0.077855</td>\n",
       "      <td>0.973848</td>\n",
       "      <td>00:00</td>\n",
       "    </tr>\n",
       "    <tr>\n",
       "      <td>7</td>\n",
       "      <td>0.061403</td>\n",
       "      <td>0.070985</td>\n",
       "      <td>0.975093</td>\n",
       "      <td>00:00</td>\n",
       "    </tr>\n",
       "    <tr>\n",
       "      <td>8</td>\n",
       "      <td>0.054237</td>\n",
       "      <td>0.066958</td>\n",
       "      <td>0.976961</td>\n",
       "      <td>00:00</td>\n",
       "    </tr>\n",
       "    <tr>\n",
       "      <td>9</td>\n",
       "      <td>0.051233</td>\n",
       "      <td>0.066273</td>\n",
       "      <td>0.976961</td>\n",
       "      <td>00:00</td>\n",
       "    </tr>\n",
       "  </tbody>\n",
       "</table>"
      ],
      "text/plain": [
       "<IPython.core.display.HTML object>"
      ]
     },
     "metadata": {},
     "output_type": "display_data"
    },
    {
     "data": {
      "image/png": "[encoded data removed]",
      "text/plain": [
       "<Figure size 600x400 with 1 Axes>"
      ]
     },
     "metadata": {},
     "output_type": "display_data"
    },
    {
     "data": {
      "image/png": "[encoded data removed]",
      "text/plain": [
       "<Figure size 2000x400 with 3 Axes>"
      ]
     },
     "metadata": {},
     "output_type": "display_data"
    },
    {
     "name": "stdout",
     "output_type": "stream",
     "text": [
      "FlattenedLoss of BCEWithLogitsLoss()\n"
     ]
    }
   ],
   "source": [
    "######## remove standardization from above at first, also remove sigmoid from the network*****************\n",
    "\n",
    "# splits = TimeSplitter()(y)\n",
    "splits = TrainValidTestSplitter()(y)\n",
    "tfms  = [None, MultiCategorize()] \n",
    "batch_tfms = TSStandardize()\n",
    "dsets = TSDatasets(X, y, tfms=tfms, splits=splits, inplace=True)\n",
    "dls   = TSDataLoaders.from_dsets(dsets.train, dsets.valid, bs = 32, num_workers=2)#,batch_tfms=batch_tfms) ### note the normalization\n",
    "\n",
    "k={}\n",
    "model = create_model(MyLSTM, dls.vars,dls.c,dls,**k)\n",
    "\n",
    "#### note the accuracy_multi and MultiCategorize() contains BCEwithlogits not normal BCE\n",
    "learn = Learner(dls, model, lr = 1e-3, metrics=accuracy_multi,cbs = ShowGraph())\n",
    "learn.fit_one_cycle(10)\n",
    "\n",
    "print(learn.loss_func)\n",
    "\n",
    "##### save and load pkl model\n",
    "# learn.export('models/learn.pkl')\n",
    "# learn = load_learner('models/learn.pkl')"
   ]
  },
  {
   "cell_type": "markdown",
   "metadata": {},
   "source": [
    "**EVALUATION ON TEST DATA SET**"
   ]
  },
  {
   "cell_type": "code",
   "execution_count": 71,
   "metadata": {},
   "outputs": [
    {
     "data": {
      "text/html": [
       "\n",
       "<style>\n",
       "    /* Turns off some styling */\n",
       "    progress {\n",
       "        /* gets rid of default border in Firefox and Opera. */\n",
       "        border: none;\n",
       "        /* Needs to be in here for Safari polyfill so background images work as expected. */\n",
       "        background-size: auto;\n",
       "    }\n",
       "    progress:not([value]), progress:not([value])::-webkit-progress-bar {\n",
       "        background: repeating-linear-gradient(45deg, #7e7e7e, #7e7e7e 10px, #5c5c5c 10px, #5c5c5c 20px);\n",
       "    }\n",
       "    .progress-bar-interrupted, .progress-bar-interrupted::-webkit-progress-bar {\n",
       "        background: #F44336;\n",
       "    }\n",
       "</style>\n"
      ],
      "text/plain": [
       "<IPython.core.display.HTML object>"
      ]
     },
     "metadata": {},
     "output_type": "display_data"
    },
    {
     "data": {
      "text/html": [],
      "text/plain": [
       "<IPython.core.display.HTML object>"
      ]
     },
     "metadata": {},
     "output_type": "display_data"
    },
    {
     "name": "stdout",
     "output_type": "stream",
     "text": [
      "torch.Size([803, 2]) torch.Size([803, 2])\n",
      "Accuracy: 92.52802\n"
     ]
    },
    {
     "data": {
      "image/png": "[encoded data removed]",
      "text/plain": [
       "<Figure size 640x480 with 1 Axes>"
      ]
     },
     "metadata": {},
     "output_type": "display_data"
    },
    {
     "name": "stdout",
     "output_type": "stream",
     "text": [
      "f1 score: 0.9319092122830441\n",
      "\n"
     ]
    },
    {
     "data": {
      "image/png": "[encoded data removed]",
      "text/plain": [
       "<Figure size 640x480 with 1 Axes>"
      ]
     },
     "metadata": {},
     "output_type": "display_data"
    },
    {
     "name": "stdout",
     "output_type": "stream",
     "text": [
      "f1 score: 0.9775967413441955\n",
      "\n"
     ]
    }
   ],
   "source": [
    "#### Adding dataset to apply same dls valid tfms on test\n",
    "\n",
    "test_ds = dls.valid.dataset.add_test(X[splits[1]], y[splits[1]]) #X and y would be your test data (segmented)\n",
    "test_dl = dls.valid.new(test_ds)\n",
    "next(iter(test_dl))\n",
    "\n",
    "#### evaluating\n",
    "\n",
    "test_probas, test_targets, test_preds = learn.get_preds(dl=test_dl, with_decoded=True)#,reorder = False)\n",
    "\n",
    "print(test_targets.shape,test_preds.shape)\n",
    "# print(f'Accuracy: {(test_targets == test_preds).float().mean():0.5f}') ## single label \n",
    "# print(f'f1 score: {f1_score(test_targets,test_preds,average=None)}\\n') # to get f1 score for each class use (average=None)\n",
    "# ### number of classes in validation set\n",
    "# n_classes = pd.DataFrame(test_targets).value_counts().shape[0]\n",
    "# plot_confusion(test_targets,test_preds,n_classes)\n",
    "\n",
    "\n",
    "print(f'Accuracy: {(100/test_targets.shape[0])*torch.all((test_preds == test_targets),dim=1).sum():0.5f}') ## multi-label\n",
    "n_classes = test_targets.shape[1]\n",
    "plot_confusion(test_targets[:,0],test_preds[:,0],n_classes,name = 'person')\n",
    "print(f'f1 score: {f1_score(test_targets[:,0],test_preds[:,0])}\\n') # to get f1 score for each class use (average=None)\n",
    "\n",
    "\n",
    "### window class\n",
    "### number of classes in validation set\n",
    "plot_confusion(test_targets[:,1],test_preds[:,1],n_classes,name = 'window')\n",
    "print(f'f1 score: {f1_score(test_targets[:,1],test_preds[:,1])}\\n') # to get f1 score for each class use (average=None)\n"
   ]
  },
  {
   "cell_type": "markdown",
   "metadata": {},
   "source": [
    "**Benchmarking**"
   ]
  },
  {
   "cell_type": "code",
   "execution_count": null,
   "metadata": {},
   "outputs": [],
   "source": [
    "dsid = 'LSST' \n",
    "\n",
    "splits = TrainValidTestSplitter()(y)\n",
    "tfms  = [None, MultiCategorize()] \n",
    "batch_tfms = TSStandardize()\n",
    "dsets = TSDatasets(X, y, tfms=tfms, splits=splits, inplace=True)\n",
    "dls   = TSDataLoaders.from_dsets(dsets.train, dsets.valid, bs = 32, num_workers=2)\n",
    "\n",
    "archs = [(FCN, {}), (ResNet, {}), (xresnet1d34, {}), (ResCNN, {}), \n",
    "         (LSTM, {'n_layers':1, 'bidirectional': False}), (LSTM, {'n_layers':2, 'bidirectional': False}), (LSTM, {'n_layers':3, 'bidirectional': False}), \n",
    "         (LSTM, {'n_layers':1, 'bidirectional': True}), (LSTM, {'n_layers':2, 'bidirectional': True}), (LSTM, {'n_layers':3, 'bidirectional': True}),\n",
    "         (InceptionTime, {}), (XceptionTime, {})]\n",
    "\n",
    "results = pd.DataFrame(columns=['arch', 'hyperparams', 'total params', 'train loss', 'valid loss', 'accuracy', 'time'])\n",
    "for i, (arch, k) in enumerate(archs):\n",
    "    model = create_model(arch,dls.vars,dls.c, dls, **k)\n",
    "    print(model.__class__.__name__)\n",
    "    learn = Learner(dls, model,  metrics=accuracy_multi)\n",
    "    start = time.time()\n",
    "    learn.fit_one_cycle(10, 1e-4)\n",
    "    elapsed = time.time() - start\n",
    "    vals = learn.recorder.values[-1]\n",
    "    results.loc[i] = [arch.__name__, k, count_parameters(model), vals[0], vals[1], vals[2], int(elapsed)]\n",
    "    results.sort_values(by='accuracy', ascending=False, ignore_index=True, inplace=True)\n",
    "    display(results)"
   ]
  },
  {
   "cell_type": "code",
   "execution_count": null,
   "metadata": {},
   "outputs": [],
   "source": [
    "learn.feature_importance()"
   ]
  },
  {
   "cell_type": "code",
   "execution_count": 252,
   "metadata": {},
   "outputs": [
    {
     "data": {
      "text/plain": [
       "<bound method Module.state_dict of MyFCN(\n",
       "  (convblock1): ConvBlock(\n",
       "    (0): Conv1d(17, 16, kernel_size=(7,), stride=(1,), padding=(3,), bias=False)\n",
       "    (1): BatchNorm1d(16, eps=1e-05, momentum=0.1, affine=True, track_running_stats=True)\n",
       "    (2): ReLU()\n",
       "  )\n",
       "  (convblock2): ConvBlock(\n",
       "    (0): Conv1d(16, 32, kernel_size=(5,), stride=(1,), padding=(2,), bias=False)\n",
       "    (1): BatchNorm1d(32, eps=1e-05, momentum=0.1, affine=True, track_running_stats=True)\n",
       "    (2): ReLU()\n",
       "  )\n",
       "  (convblock3): ConvBlock(\n",
       "    (0): Conv1d(32, 16, kernel_size=(3,), stride=(1,), padding=(1,), bias=False)\n",
       "    (1): BatchNorm1d(16, eps=1e-05, momentum=0.1, affine=True, track_running_stats=True)\n",
       "    (2): ReLU()\n",
       "  )\n",
       "  (gap): GAP1d(\n",
       "    (gap): AdaptiveAvgPool1d(output_size=1)\n",
       "    (flatten): fastai.layers.Flatten(full=False)\n",
       "  )\n",
       "  (fc): Linear(in_features=16, out_features=2, bias=True)\n",
       ")>"
      ]
     },
     "execution_count": 252,
     "metadata": {},
     "output_type": "execute_result"
    }
   ],
   "source": [
    "model.state_dict"
   ]
  },
  {
   "cell_type": "code",
   "execution_count": null,
   "metadata": {},
   "outputs": [],
   "source": [
    "m=np.array(learn.recorder.values)\n",
    "m.shape\n",
    "import matplotlib.pyplot as plt"
   ]
  },
  {
   "cell_type": "code",
   "execution_count": null,
   "metadata": {},
   "outputs": [],
   "source": [
    "plt.figure()\n",
    "plt.plot(m[:,0])\n",
    "plt.plot(m[:,1])\n",
    "plt.show()"
   ]
  },
  {
   "cell_type": "markdown",
   "metadata": {},
   "source": [
    "**optuna for HP optimization**"
   ]
  },
  {
   "cell_type": "code",
   "execution_count": null,
   "metadata": {},
   "outputs": [],
   "source": [
    "import optuna\n",
    "from optuna.integration import FastAIPruningCallback\n",
    "\n",
    "num_epochs = 5\n",
    "num_optuna_trials = 50\n",
    "    \n",
    "def objective(trial:optuna.Trial):\n",
    "    # Define search space here. Supported search space are \n",
    "    #num_filters = trial.suggest_categorical('num_filters', [32, 64, 96, 128]) \n",
    "    #dropout_rate = trial.suggest_float(\"dropout_rate\", 0.0, 1.0)\n",
    "    lr = trial.suggest_float(\"Learning_rate\", 1e-8, 1e-6, log=True)\n",
    "    \n",
    "    learn = TSClassifier(X, y, splits=splits,lr =  lr, path='models', arch=InceptionTimePlus, arch_config=dict(depth=4,act=nn.ReLU, fc_dropout=0.5), batch_tfms=batch_tfms, metrics=accuracy, cbs=[ShowGraph(),FastAIPruningCallback(trial)])\n",
    "\n",
    "    \n",
    "    learn.fit_one_cycle(num_epochs, lr_max=1e-3)\n",
    "            \n",
    "    # return the valid_loss - learn.recorder.values returns [[train_loss, valid_loss, acc]]\n",
    "    return learn.recorder.values[-1][1]"
   ]
  },
  {
   "cell_type": "code",
   "execution_count": null,
   "metadata": {},
   "outputs": [],
   "source": [
    "study = optuna.create_study(direction='minimize', pruner=optuna.pruners.HyperbandPruner())\n",
    "study.optimize(objective, n_trials=num_optuna_trials, show_progress_bar=False)"
   ]
  },
  {
   "cell_type": "code",
   "execution_count": null,
   "metadata": {},
   "outputs": [],
   "source": [
    "print(\"Study statistics: \")\n",
    "print(\"  Number of finished trials: \", len(study.trials))\n",
    "\n",
    "print(\"Best trial:\")\n",
    "trial = study.best_trial\n",
    "\n",
    "print(\"  Value: \", trial.value)\n",
    "\n",
    "print(\"  Params: \")\n",
    "for key, value in trial.params.items():\n",
    "    print(\"    {}: {}\".format(key, value))"
   ]
  },
  {
   "cell_type": "markdown",
   "metadata": {},
   "source": [
    "**calculate time**"
   ]
  },
  {
   "cell_type": "code",
   "execution_count": null,
   "metadata": {},
   "outputs": [],
   "source": [
    "import timeit\n",
    "\n",
    "start = timeit.default_timer()\n",
    "\n",
    "\n",
    "\n",
    " \n",
    "learn = TSClassifier(X, y, splits=splits, lr=1e-5,path='models', arch=LSTMPlus , batch_tfms=batch_tfms, metrics=accuracy, cbs=ShowGraph())\n",
    "learn.fit_one_cycle(10)\n",
    "stop = timeit.default_timer()\n",
    "\n",
    "print('Time: ', stop - start) "
   ]
  }
 ],
 "metadata": {
  "kernelspec": {
   "display_name": "Python 3 (ipykernel)",
   "language": "python",
   "name": "python3"
  },
  "language_info": {
   "codemirror_mode": {
    "name": "ipython",
    "version": 3
   },
   "file_extension": ".py",
   "mimetype": "text/x-python",
   "name": "python",
   "nbconvert_exporter": "python",
   "pygments_lexer": "ipython3",
   "version": "3.9.13"
  },
  "vscode": {
   "interpreter": {
    "hash": "9896e4719c177e73e0a92dd62787cd74e9c19ae40be169094c16f2e556b6c4a5"
   }
  }
 },
 "nbformat": 4,
 "nbformat_minor": 2
}

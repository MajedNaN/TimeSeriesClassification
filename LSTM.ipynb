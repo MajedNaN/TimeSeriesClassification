{
 "cells": [
  {
   "cell_type": "markdown",
   "metadata": {},
   "source": [
    "**Imports**"
   ]
  },
  {
   "cell_type": "code",
   "execution_count": 1,
   "metadata": {},
   "outputs": [],
   "source": [
    "from imports import * \n",
    "from functions import *\n",
    "from archs import *\n",
    "from mylearner import *\n",
    "%matplotlib inline\n",
    "%load_ext tensorboard"
   ]
  },
  {
   "cell_type": "markdown",
   "metadata": {},
   "source": [
    "**Loading annotated data**"
   ]
  },
  {
   "cell_type": "code",
   "execution_count": 2,
   "metadata": {},
   "outputs": [
    {
     "name": "stdout",
     "output_type": "stream",
     "text": [
      "data shape: (64171, 23)\n",
      "        oxygen      pm10     co  temperature    co2    so2    no2       pm1  \\\n",
      "0      20.936  0.548238  1.562       24.276  455.7  -1.96  23.93  0.396847   \n",
      "1      20.938  0.678546  1.562       24.274  454.4  -2.06  23.90  0.375806   \n",
      "2      20.937  0.788452  1.562       24.273  454.5  -2.39  23.96  0.447566   \n",
      "3      20.937  0.890764  1.562       24.271  454.5  -2.69  23.87  0.558607   \n",
      "4      20.937  0.844628  1.562       24.268  455.0  -2.83  23.90  0.570323   \n",
      "...       ...       ...    ...          ...    ...    ...    ...       ...   \n",
      "44440  20.233  1.471562  1.472       18.350  448.2  25.15  23.51  1.103393   \n",
      "44441  20.234  1.476924  1.472       18.350  448.3  25.02  23.44  1.049043   \n",
      "44442  20.233  1.373389  1.472       18.351  449.4  25.04  23.49  1.043940   \n",
      "44443  20.233  1.454923  1.472       18.350  448.8  25.06  23.57  1.065992   \n",
      "44444  20.233  1.249064  1.471       18.348  449.2  24.99  23.69  1.031303   \n",
      "\n",
      "        dewpt      timestamp  ...     o3  humidity  humidity_abs     sound  \\\n",
      "0      13.985  1664150410000  ...  17.96    52.009        11.546  21.94292   \n",
      "1      13.983  1664150529000  ...  18.00    52.006        11.544  21.73989   \n",
      "2      13.997  1664150647000  ...  18.06    52.056        11.554  21.70284   \n",
      "3      13.996  1664150772000  ...  18.07    52.060        11.554  21.68667   \n",
      "4      13.995  1664150891000  ...  18.00    52.066        11.553  21.76809   \n",
      "...       ...            ...  ...    ...       ...           ...       ...   \n",
      "44440   7.970  1669592907000  ...  10.42    50.163         7.899  19.48630   \n",
      "44441   7.970  1669593026000  ...  10.37    50.163         7.899  20.00779   \n",
      "44442   7.971  1669593150000  ...  10.37    50.162         7.899  19.62563   \n",
      "44443   7.970  1669593269000  ...  10.36    50.162         7.899  19.67585   \n",
      "44444   7.969  1669593389000  ...  10.32    50.163         7.898  19.47027   \n",
      "\n",
      "          pm2_5                  datetime                          deviceid  \\\n",
      "0      0.457518 2022-09-26 00:00:10+00:00  a2055772251a41b9f8bd24c66b89a09b   \n",
      "1      0.427543 2022-09-26 00:02:09+00:00  a2055772251a41b9f8bd24c66b89a09b   \n",
      "2      0.572688 2022-09-26 00:04:07+00:00  a2055772251a41b9f8bd24c66b89a09b   \n",
      "3      0.648710 2022-09-26 00:06:12+00:00  a2055772251a41b9f8bd24c66b89a09b   \n",
      "4      0.644211 2022-09-26 00:08:11+00:00  a2055772251a41b9f8bd24c66b89a09b   \n",
      "...         ...                       ...                               ...   \n",
      "44440  1.257664 2022-11-27 23:48:27+00:00  a2055772251a41b9f8bd24c66b89a09b   \n",
      "44441  1.122220 2022-11-27 23:50:26+00:00  a2055772251a41b9f8bd24c66b89a09b   \n",
      "44442  1.210747 2022-11-27 23:52:30+00:00  a2055772251a41b9f8bd24c66b89a09b   \n",
      "44443  1.145115 2022-11-27 23:54:29+00:00  a2055772251a41b9f8bd24c66b89a09b   \n",
      "44444  1.068833 2022-11-27 23:56:29+00:00  a2055772251a41b9f8bd24c66b89a09b   \n",
      "\n",
      "       h2s person window_open  \n",
      "0      NaN      0           0  \n",
      "1      NaN      0           0  \n",
      "2      NaN      0           0  \n",
      "3      NaN      0           0  \n",
      "4      NaN      0           0  \n",
      "...    ...    ...         ...  \n",
      "44440  NaN      0           0  \n",
      "44441  NaN      0           0  \n",
      "44442  NaN      0           0  \n",
      "44443  NaN      0           0  \n",
      "44444  NaN      0           0  \n",
      "\n",
      "[44445 rows x 23 columns]\n"
     ]
    }
   ],
   "source": [
    "from loading_data import *"
   ]
  },
  {
   "cell_type": "markdown",
   "metadata": {},
   "source": [
    "**Encode target classes (person and window open) classes**"
   ]
  },
  {
   "cell_type": "code",
   "execution_count": 3,
   "metadata": {},
   "outputs": [
    {
     "name": "stdout",
     "output_type": "stream",
     "text": [
      "0    18144\n",
      "1     1440\n",
      "2      139\n",
      "4        2\n",
      "3        1\n",
      "Name: person, dtype: int64\n",
      "0    18701\n",
      "1     1025\n",
      "Name: window_open, dtype: int64\n",
      "(19726, 23)\n",
      "0    43791\n",
      "1      604\n",
      "2       50\n",
      "Name: person, dtype: int64\n",
      "0    44156\n",
      "1      289\n",
      "Name: window_open, dtype: int64\n",
      "(44445, 23)\n",
      "0    61935\n",
      "1     2044\n",
      "2      189\n",
      "4        2\n",
      "3        1\n",
      "Name: person, dtype: int64\n",
      "0    62857\n",
      "1     1314\n",
      "Name: window_open, dtype: int64\n",
      "(64171, 23)\n"
     ]
    }
   ],
   "source": [
    "df1 = encode_classes(d1)\n",
    "df2 = encode_classes(d2)\n",
    "df = encode_classes(data)"
   ]
  },
  {
   "cell_type": "markdown",
   "metadata": {},
   "source": [
    "**filtering data**"
   ]
  },
  {
   "cell_type": "code",
   "execution_count": 4,
   "metadata": {},
   "outputs": [],
   "source": [
    "# h2s column has only NaN values, also drop timestamp,datetime,deviceid\n",
    "df.drop(columns=['h2s','timestamp','deviceid'],inplace=True)\n",
    "df1.drop(columns=['h2s','timestamp','deviceid'],inplace=True)\n",
    "df2.drop(columns=['h2s','timestamp','deviceid'],inplace=True)"
   ]
  },
  {
   "cell_type": "markdown",
   "metadata": {},
   "source": [
    "**Missing values, drop NAN**"
   ]
  },
  {
   "cell_type": "code",
   "execution_count": 5,
   "metadata": {},
   "outputs": [
    {
     "data": {
      "image/png": "[encoded data removed]",
      "text/plain": [
       "<Figure size 640x480 with 1 Axes>"
      ]
     },
     "metadata": {},
     "output_type": "display_data"
    },
    {
     "name": "stdout",
     "output_type": "stream",
     "text": [
      "maximum number of missing values per column=  20 \n",
      "\n",
      "   column  count  percentage\n",
      "12     o3     20    0.101389\n",
      "5     so2     20    0.101389\n",
      "6     no2     20    0.101389\n",
      "2      co     14    0.070972\n",
      "9    tvoc      1    0.005069\n"
     ]
    },
    {
     "data": {
      "image/png": "[encoded data removed]",
      "text/plain": [
       "<Figure size 640x480 with 1 Axes>"
      ]
     },
     "metadata": {},
     "output_type": "display_data"
    },
    {
     "name": "stdout",
     "output_type": "stream",
     "text": [
      "maximum number of missing values per column=  nan \n",
      "\n",
      "Empty DataFrame\n",
      "Columns: [column, count, percentage]\n",
      "Index: []\n"
     ]
    }
   ],
   "source": [
    "plot_missing(df1)\n",
    "plot_missing(df2)\n",
    "\n",
    "#### substitute NaN values with mean \n",
    "## polynomial interpolation with degree > 1 uses index, also convert dtype to float to work\n",
    "df1 = impute_NaN(df1)\n",
    "df2 = impute_NaN(df2)\n",
    "############## conmbine into df \n",
    "\n",
    "df = concat(df1,df2)\n",
    "df.columns=df1.columns\n",
    "\n",
    "### drop datetime column and store it before for visualization\n",
    "datetime_df = df.datetime\n",
    "datetime_df1 = df1.datetime\n",
    "datetime_df2 = df2.datetime\n",
    "\n",
    "df.drop(columns=['datetime'],inplace=True)\n",
    "df1.drop(columns=['datetime'],inplace=True)\n",
    "df2.drop(columns=['datetime'],inplace=True)\n",
    "\n"
   ]
  },
  {
   "cell_type": "markdown",
   "metadata": {},
   "source": [
    "**minimized dataset for our classification task, drop  rows for testing**"
   ]
  },
  {
   "cell_type": "code",
   "execution_count": 6,
   "metadata": {},
   "outputs": [
    {
     "name": "stdout",
     "output_type": "stream",
     "text": [
      "0    61915\n",
      "1     2044\n",
      "2      189\n",
      "4        2\n",
      "3        1\n",
      "Name: person, dtype: int64 \n",
      " 0    62837\n",
      "1     1314\n",
      "Name: window_open, dtype: int64 \n",
      "\n",
      "0    61915\n",
      "1     2236\n",
      "Name: person, dtype: int64 \n",
      " 0    62837\n",
      "1     1314\n",
      "Name: window_open, dtype: int64 \n",
      "\n",
      "(19706, 11) \n",
      " 0    18124\n",
      "1     1582\n",
      "Name: person, dtype: int64 \n",
      " 0    18681\n",
      "1     1025\n",
      "Name: window_open, dtype: int64 \n",
      "\n",
      "(22445, 11) \n",
      " 0    21852\n",
      "1      593\n",
      "Name: person, dtype: int64 \n",
      " 0    22206\n",
      "1      239\n",
      "Name: window_open, dtype: int64 \n",
      "\n",
      "(300, 11) \n",
      " 0    245\n",
      "1     55\n",
      "Name: person, dtype: int64 \n",
      " 0    259\n",
      "1     41\n",
      "Name: window_open, dtype: int64 \n",
      "\n",
      "(64151, 11) \n",
      " 0    61915\n",
      "1     2236\n",
      "Name: person, dtype: int64 \n",
      " 0    62837\n",
      "1     1314\n",
      "Name: window_open, dtype: int64 \n",
      "\n"
     ]
    }
   ],
   "source": [
    "\n",
    "print(df['person'].value_counts(),'\\n',df['window_open'].value_counts(),'\\n')\n",
    "\n",
    "#### combine classes of more than 1 person to 1 person as there exists too little of them\n",
    "lc = df.loc[lambda x: x['person'] > 1]\n",
    "df.loc[lc.index,'person'] = 1\n",
    "\n",
    "lc = df1.loc[lambda x: x['person'] > 1]\n",
    "df1.loc[lc.index,'person'] = 1\n",
    "\n",
    "lc = df2.loc[lambda x: x['person'] > 1]\n",
    "df2.loc[lc.index,'person'] = 1\n",
    "\n",
    "print(df['person'].value_counts(),'\\n',df['window_open'].value_counts(),'\\n')\n",
    "\n",
    "\n",
    "############### drop  rows for testing\n",
    "### november (one month) for testing\n",
    "df2_test = df2.iloc[df2.shape[0]-22000:df2.shape[0]-21700] ## to get better visualization on less focused data\n",
    "datetime_test = datetime_df2.iloc[datetime_df2.shape[0]-22000:datetime_df2.shape[0]-21700]\n",
    "df2 = df2.drop(index = df2.index[df2.shape[0]-22000:]) ### to keep the sequence order drop from last\n",
    "datetime_df2 = datetime_df2.drop(index = datetime_df2.index[datetime_df2.shape[0]-22000:])\n",
    "\n",
    "\n",
    "### for visualization\n",
    "datetime_train = concat(datetime_df1,datetime_df2)\n",
    "df_train = concat(df1,df2)\n",
    "df_train.columns=df1.columns\n",
    "\n",
    "# df2.reset_index(drop=True,inplace=True)\n",
    "# df2_test.reset_index(drop=True,inplace=True)\n",
    "\n",
    "df2_test_targets = df2_test.filter(['person','window_open'])\n",
    "df2_test_features = df2_test.drop(columns=['person','window_open']) \n",
    "\n",
    "\n",
    "\n",
    "\n",
    "targets = df.filter(['person','window_open'])\n",
    "features = df.drop(columns=['person','window_open']) \n",
    "\n",
    "\n",
    "targets1 = df1.filter(['person','window_open'])\n",
    "features1 = df1.drop(columns=['person','window_open']) \n",
    "\n",
    "targets2 = df2.filter(['person','window_open'])\n",
    "features2 = df2.drop(columns=['person','window_open']) \n",
    "\n",
    "\n",
    "\n",
    "### minimized data\n",
    "l_ = ['humidity','temperature','tvoc','oxygen','co2','co','pressure','o3','sound','person','window_open']\n",
    "f_ = ['humidity','temperature','tvoc','oxygen','co2','co','pressure','o3','sound']\n",
    "### from leipzig data\n",
    "# l_ = ['humidity_abs','temperature','tvoc','oxygen','co2','co','no2','o3','person','window_open']\n",
    "# f_ = ['humidity_abs','temperature','tvoc','oxygen','co2','co','no2','o3']\n",
    "\n",
    "df_mini1 = df1.filter(l_)\n",
    "print(df_mini1.shape,'\\n',df_mini1['person'].value_counts(),'\\n',df_mini1['window_open'].value_counts(),'\\n')\n",
    "features_mini1 = features1.filter(f_)\n",
    "# print(targets1.iloc[:,0].value_counts())\n",
    "\n",
    "df_mini2 = df2.filter(l_)\n",
    "print(df_mini2.shape,'\\n',df_mini2['person'].value_counts(),'\\n',df_mini2['window_open'].value_counts(),'\\n')\n",
    "features_mini2 = features2.filter(f_)\n",
    "# print(targets2.iloc[:,0].value_counts())\n",
    "\n",
    "df2_test_mini = df2_test.filter(l_)\n",
    "print(df2_test_mini.shape,'\\n',df2_test_mini['person'].value_counts(),'\\n',df2_test_mini['window_open'].value_counts(),'\\n')\n",
    "df2_test_features_mini = df2_test_features.filter(f_)\n",
    "\n",
    "## whole df\n",
    "df_mini = df.filter(l_)\n",
    "print(df_mini.shape,'\\n',df_mini['person'].value_counts(),'\\n',df_mini['window_open'].value_counts(),'\\n')\n",
    "features_mini = features.filter(f_)\n",
    "# print(targets2.iloc[:,0].value_counts())\n"
   ]
  },
  {
   "cell_type": "markdown",
   "metadata": {},
   "source": [
    "**Perform undersampling and segmentation**"
   ]
  },
  {
   "cell_type": "markdown",
   "metadata": {},
   "source": [
    "read yaml config file"
   ]
  },
  {
   "cell_type": "code",
   "execution_count": 7,
   "metadata": {},
   "outputs": [],
   "source": [
    "with open('config.yaml') as f:\n",
    "    hyperparams = yaml.load(f,SafeLoader)\n",
    "    \n",
    "under_window = hyperparams['sample_segment']['under_window']\n",
    "seq_len = hyperparams['sample_segment']['seq_len']\n",
    "stride = hyperparams['sample_segment']['stride']\n",
    "sliding_mode = hyperparams['sample_segment']['sliding_mode']\n",
    "all_features = hyperparams['sample_segment']['all_features']"
   ]
  },
  {
   "cell_type": "markdown",
   "metadata": {},
   "source": [
    "under sample and segment"
   ]
  },
  {
   "cell_type": "code",
   "execution_count": 8,
   "metadata": {},
   "outputs": [
    {
     "data": {
      "text/plain": [
       "((5054, 9, 7), (5054, 2))"
      ]
     },
     "execution_count": 8,
     "metadata": {},
     "output_type": "execute_result"
    }
   ],
   "source": [
    "## undersampling and sliding\n",
    "sampling = hyperparams['sample_segment']['sampling']\n",
    "if sampling:\n",
    "    if all_features:\n",
    "        X1,y1= under_sample(df1,under_window,seq_len,stride,sliding_mode=sliding_mode)\n",
    "        X2,y2= under_sample(df2,under_window,seq_len,stride,sliding_mode=sliding_mode)\n",
    "    else:\n",
    "        X1,y1= under_sample(df_mini1,under_window,seq_len,stride,sliding_mode=sliding_mode)\n",
    "        X2,y2= under_sample(df_mini2,under_window,seq_len,stride,sliding_mode=sliding_mode)\n",
    "else:\n",
    "    if all_features:\n",
    "        X1,y1= sliding(seq_len,stride,features1,targets1,mode=sliding_mode)\n",
    "        X2,y2= sliding(seq_len,stride,features2,targets2,mode=sliding_mode)\n",
    "    else:\n",
    "        X1,y1= sliding(seq_len,stride,features_mini1,targets1,mode=sliding_mode)\n",
    "        X2,y2= sliding(seq_len,stride,features_mini2,targets2,mode=sliding_mode)\n",
    "\n",
    "\n",
    "\n",
    "X = concat(X1,X2)\n",
    "y = concat(y1,y2)\n",
    "X.shape, y.shape\n"
   ]
  },
  {
   "cell_type": "markdown",
   "metadata": {},
   "source": [
    "**splitting sets and standardization**"
   ]
  },
  {
   "cell_type": "markdown",
   "metadata": {},
   "source": [
    "**using sklearn**"
   ]
  },
  {
   "cell_type": "code",
   "execution_count": 9,
   "metadata": {},
   "outputs": [
    {
     "name": "stdout",
     "output_type": "stream",
     "text": [
      "(4549, 9, 7) (505, 9, 7) (294, 9, 7)\n"
     ]
    }
   ],
   "source": [
    "###### splitting\n",
    "# splits = TrainValidTestSplitter(valid_size=0.2,test_size=0.1)(y) ##### we have test set here\n",
    "splits = TrainValidTestSplitter(valid_size=0.1)(y) ##### we DON'T have test set here\n",
    "x_train = np.zeros(X[splits[0]].shape,dtype=np.float32)\n",
    "y_train = y[splits[0]]\n",
    "x_valid = np.zeros(X[splits[1]].shape,dtype=np.float32)\n",
    "y_valid = y[splits[1]]\n",
    "#### if splitted\n",
    "# x_test = np.zeros(X[splits[2]].shape,dtype=np.float32)\n",
    "# y_test = y[splits[2]]\n",
    "\n",
    "#different test set\n",
    "### uses stride = 1 to check all time points\n",
    "if all_features:\n",
    "    x_test_, y_test = sliding(seq_len,1,df2_test_features,df2_test_targets,mode=sliding_mode)\n",
    "else:\n",
    "    x_test_, y_test = sliding(seq_len,1,df2_test_features_mini,df2_test_targets,mode=sliding_mode)\n",
    "x_test = np.zeros(x_test_.shape,dtype=np.float32) \n",
    "#################\n",
    "\n",
    "\n",
    "\n",
    "#### standardization\n",
    "scalers = {}\n",
    "for i in range(x_train.shape[1]): ## n_features\n",
    "    scalers[i] = StandardScaler()\n",
    "    scalers[i].fit(np.unique((X[splits[0]])[:, i, :]).reshape(-1,1)) ### as we have overlapping samples\n",
    "    x_train[:, i, :] = scalers[i].transform((X[splits[0]])[:, i, :].reshape(-1,1)).reshape(x_train.shape[0],x_train.shape[-1])\n",
    "    x_valid[:, i, :] = scalers[i].transform((X[splits[1]])[:, i, :].reshape(-1,1)).reshape(x_valid.shape[0],x_valid.shape[-1])\n",
    "    # x_test[:, i, :] = scalers[i].transform((X[splits[2]])[:, i, :].reshape(-1,1)).reshape(x_test.shape[0],x_test.shape[-1]) ## from splitting\n",
    "    x_test[:, i, :] = scalers[i].transform((x_test_)[:, i, :].reshape(-1,1)).reshape(x_test.shape[0],x_test.shape[-1]) ## test set from outside\n",
    "print(x_train.shape,x_valid.shape,x_test.shape)"
   ]
  },
  {
   "cell_type": "markdown",
   "metadata": {},
   "source": [
    "**tsai LEARNER**"
   ]
  },
  {
   "cell_type": "markdown",
   "metadata": {},
   "source": [
    "read config file"
   ]
  },
  {
   "cell_type": "code",
   "execution_count": 10,
   "metadata": {},
   "outputs": [],
   "source": [
    "with open('config.yaml') as f:\n",
    "    hyperparams = yaml.load(f,SafeLoader)\n",
    "\n",
    "epochs = hyperparams['model']['epochs']\n",
    "bs = hyperparams['model']['bs']\n",
    "num_workers = hyperparams['model']['num_workers']\n",
    "embed_size = hyperparams['model']['embed_size']"
   ]
  },
  {
   "attachments": {},
   "cell_type": "markdown",
   "metadata": {},
   "source": [
    "**Train [note freezing the encoder before fitting]**"
   ]
  },
  {
   "cell_type": "code",
   "execution_count": 11,
   "metadata": {},
   "outputs": [
    {
     "data": {
      "text/html": [
       "<table border=\"1\" class=\"dataframe\">\n",
       "  <thead>\n",
       "    <tr style=\"text-align: left;\">\n",
       "      <th>epoch</th>\n",
       "      <th>train_loss</th>\n",
       "      <th>valid_loss</th>\n",
       "      <th>accuracy_multi</th>\n",
       "      <th>time</th>\n",
       "    </tr>\n",
       "  </thead>\n",
       "  <tbody>\n",
       "    <tr>\n",
       "      <td>0</td>\n",
       "      <td>0.584923</td>\n",
       "      <td>0.533914</td>\n",
       "      <td>0.753465</td>\n",
       "      <td>00:00</td>\n",
       "    </tr>\n",
       "    <tr>\n",
       "      <td>1</td>\n",
       "      <td>0.424142</td>\n",
       "      <td>0.387460</td>\n",
       "      <td>0.821782</td>\n",
       "      <td>00:00</td>\n",
       "    </tr>\n",
       "    <tr>\n",
       "      <td>2</td>\n",
       "      <td>0.337657</td>\n",
       "      <td>0.317763</td>\n",
       "      <td>0.837624</td>\n",
       "      <td>00:00</td>\n",
       "    </tr>\n",
       "    <tr>\n",
       "      <td>3</td>\n",
       "      <td>0.280619</td>\n",
       "      <td>0.272385</td>\n",
       "      <td>0.886139</td>\n",
       "      <td>00:01</td>\n",
       "    </tr>\n",
       "    <tr>\n",
       "      <td>4</td>\n",
       "      <td>0.246175</td>\n",
       "      <td>0.246910</td>\n",
       "      <td>0.891089</td>\n",
       "      <td>00:00</td>\n",
       "    </tr>\n",
       "    <tr>\n",
       "      <td>5</td>\n",
       "      <td>0.211455</td>\n",
       "      <td>0.203456</td>\n",
       "      <td>0.924752</td>\n",
       "      <td>00:00</td>\n",
       "    </tr>\n",
       "    <tr>\n",
       "      <td>6</td>\n",
       "      <td>0.174854</td>\n",
       "      <td>0.180276</td>\n",
       "      <td>0.932673</td>\n",
       "      <td>00:01</td>\n",
       "    </tr>\n",
       "    <tr>\n",
       "      <td>7</td>\n",
       "      <td>0.156156</td>\n",
       "      <td>0.172728</td>\n",
       "      <td>0.927723</td>\n",
       "      <td>00:00</td>\n",
       "    </tr>\n",
       "    <tr>\n",
       "      <td>8</td>\n",
       "      <td>0.142848</td>\n",
       "      <td>0.140958</td>\n",
       "      <td>0.938614</td>\n",
       "      <td>00:00</td>\n",
       "    </tr>\n",
       "    <tr>\n",
       "      <td>9</td>\n",
       "      <td>0.131899</td>\n",
       "      <td>0.132879</td>\n",
       "      <td>0.944554</td>\n",
       "      <td>00:01</td>\n",
       "    </tr>\n",
       "    <tr>\n",
       "      <td>10</td>\n",
       "      <td>0.121220</td>\n",
       "      <td>0.119579</td>\n",
       "      <td>0.956436</td>\n",
       "      <td>00:00</td>\n",
       "    </tr>\n",
       "    <tr>\n",
       "      <td>11</td>\n",
       "      <td>0.121616</td>\n",
       "      <td>0.121986</td>\n",
       "      <td>0.957426</td>\n",
       "      <td>00:00</td>\n",
       "    </tr>\n",
       "    <tr>\n",
       "      <td>12</td>\n",
       "      <td>0.111997</td>\n",
       "      <td>0.127332</td>\n",
       "      <td>0.949505</td>\n",
       "      <td>00:00</td>\n",
       "    </tr>\n",
       "    <tr>\n",
       "      <td>13</td>\n",
       "      <td>0.101858</td>\n",
       "      <td>0.096588</td>\n",
       "      <td>0.966337</td>\n",
       "      <td>00:00</td>\n",
       "    </tr>\n",
       "    <tr>\n",
       "      <td>14</td>\n",
       "      <td>0.112136</td>\n",
       "      <td>0.200741</td>\n",
       "      <td>0.928713</td>\n",
       "      <td>00:01</td>\n",
       "    </tr>\n",
       "    <tr>\n",
       "      <td>15</td>\n",
       "      <td>0.103278</td>\n",
       "      <td>0.093303</td>\n",
       "      <td>0.960396</td>\n",
       "      <td>00:00</td>\n",
       "    </tr>\n",
       "    <tr>\n",
       "      <td>16</td>\n",
       "      <td>0.095732</td>\n",
       "      <td>0.103300</td>\n",
       "      <td>0.957426</td>\n",
       "      <td>00:01</td>\n",
       "    </tr>\n",
       "    <tr>\n",
       "      <td>17</td>\n",
       "      <td>0.093687</td>\n",
       "      <td>0.088422</td>\n",
       "      <td>0.962376</td>\n",
       "      <td>00:00</td>\n",
       "    </tr>\n",
       "    <tr>\n",
       "      <td>18</td>\n",
       "      <td>0.082184</td>\n",
       "      <td>0.093157</td>\n",
       "      <td>0.964356</td>\n",
       "      <td>00:00</td>\n",
       "    </tr>\n",
       "    <tr>\n",
       "      <td>19</td>\n",
       "      <td>0.104654</td>\n",
       "      <td>0.093921</td>\n",
       "      <td>0.966337</td>\n",
       "      <td>00:00</td>\n",
       "    </tr>\n",
       "    <tr>\n",
       "      <td>20</td>\n",
       "      <td>0.079586</td>\n",
       "      <td>0.086572</td>\n",
       "      <td>0.965347</td>\n",
       "      <td>00:01</td>\n",
       "    </tr>\n",
       "    <tr>\n",
       "      <td>21</td>\n",
       "      <td>0.085781</td>\n",
       "      <td>0.084680</td>\n",
       "      <td>0.965347</td>\n",
       "      <td>00:01</td>\n",
       "    </tr>\n",
       "    <tr>\n",
       "      <td>22</td>\n",
       "      <td>0.078930</td>\n",
       "      <td>0.087257</td>\n",
       "      <td>0.965347</td>\n",
       "      <td>00:01</td>\n",
       "    </tr>\n",
       "    <tr>\n",
       "      <td>23</td>\n",
       "      <td>0.079761</td>\n",
       "      <td>0.068956</td>\n",
       "      <td>0.970297</td>\n",
       "      <td>00:01</td>\n",
       "    </tr>\n",
       "    <tr>\n",
       "      <td>24</td>\n",
       "      <td>0.073319</td>\n",
       "      <td>0.069735</td>\n",
       "      <td>0.968317</td>\n",
       "      <td>00:01</td>\n",
       "    </tr>\n",
       "    <tr>\n",
       "      <td>25</td>\n",
       "      <td>0.067711</td>\n",
       "      <td>0.069734</td>\n",
       "      <td>0.968317</td>\n",
       "      <td>00:00</td>\n",
       "    </tr>\n",
       "    <tr>\n",
       "      <td>26</td>\n",
       "      <td>0.062845</td>\n",
       "      <td>0.063743</td>\n",
       "      <td>0.975248</td>\n",
       "      <td>00:01</td>\n",
       "    </tr>\n",
       "    <tr>\n",
       "      <td>27</td>\n",
       "      <td>0.067197</td>\n",
       "      <td>0.070598</td>\n",
       "      <td>0.970297</td>\n",
       "      <td>00:00</td>\n",
       "    </tr>\n",
       "    <tr>\n",
       "      <td>28</td>\n",
       "      <td>0.063659</td>\n",
       "      <td>0.076637</td>\n",
       "      <td>0.972277</td>\n",
       "      <td>00:01</td>\n",
       "    </tr>\n",
       "    <tr>\n",
       "      <td>29</td>\n",
       "      <td>0.061601</td>\n",
       "      <td>0.063097</td>\n",
       "      <td>0.973267</td>\n",
       "      <td>00:00</td>\n",
       "    </tr>\n",
       "    <tr>\n",
       "      <td>30</td>\n",
       "      <td>0.063759</td>\n",
       "      <td>0.066118</td>\n",
       "      <td>0.968317</td>\n",
       "      <td>00:00</td>\n",
       "    </tr>\n",
       "    <tr>\n",
       "      <td>31</td>\n",
       "      <td>0.054459</td>\n",
       "      <td>0.050917</td>\n",
       "      <td>0.974257</td>\n",
       "      <td>00:00</td>\n",
       "    </tr>\n",
       "    <tr>\n",
       "      <td>32</td>\n",
       "      <td>0.056186</td>\n",
       "      <td>0.058525</td>\n",
       "      <td>0.974257</td>\n",
       "      <td>00:00</td>\n",
       "    </tr>\n",
       "    <tr>\n",
       "      <td>33</td>\n",
       "      <td>0.045421</td>\n",
       "      <td>0.056058</td>\n",
       "      <td>0.974257</td>\n",
       "      <td>00:00</td>\n",
       "    </tr>\n",
       "    <tr>\n",
       "      <td>34</td>\n",
       "      <td>0.052840</td>\n",
       "      <td>0.064271</td>\n",
       "      <td>0.975248</td>\n",
       "      <td>00:00</td>\n",
       "    </tr>\n",
       "    <tr>\n",
       "      <td>35</td>\n",
       "      <td>0.049139</td>\n",
       "      <td>0.047818</td>\n",
       "      <td>0.979208</td>\n",
       "      <td>00:01</td>\n",
       "    </tr>\n",
       "    <tr>\n",
       "      <td>36</td>\n",
       "      <td>0.048986</td>\n",
       "      <td>0.056864</td>\n",
       "      <td>0.976238</td>\n",
       "      <td>00:00</td>\n",
       "    </tr>\n",
       "    <tr>\n",
       "      <td>37</td>\n",
       "      <td>0.046017</td>\n",
       "      <td>0.048458</td>\n",
       "      <td>0.981188</td>\n",
       "      <td>00:01</td>\n",
       "    </tr>\n",
       "    <tr>\n",
       "      <td>38</td>\n",
       "      <td>0.045271</td>\n",
       "      <td>0.055126</td>\n",
       "      <td>0.976238</td>\n",
       "      <td>00:00</td>\n",
       "    </tr>\n",
       "    <tr>\n",
       "      <td>39</td>\n",
       "      <td>0.043154</td>\n",
       "      <td>0.045325</td>\n",
       "      <td>0.982178</td>\n",
       "      <td>00:00</td>\n",
       "    </tr>\n",
       "    <tr>\n",
       "      <td>40</td>\n",
       "      <td>0.041496</td>\n",
       "      <td>0.052713</td>\n",
       "      <td>0.979208</td>\n",
       "      <td>00:00</td>\n",
       "    </tr>\n",
       "    <tr>\n",
       "      <td>41</td>\n",
       "      <td>0.044219</td>\n",
       "      <td>0.042896</td>\n",
       "      <td>0.982178</td>\n",
       "      <td>00:01</td>\n",
       "    </tr>\n",
       "    <tr>\n",
       "      <td>42</td>\n",
       "      <td>0.040486</td>\n",
       "      <td>0.041405</td>\n",
       "      <td>0.981188</td>\n",
       "      <td>00:00</td>\n",
       "    </tr>\n",
       "    <tr>\n",
       "      <td>43</td>\n",
       "      <td>0.039452</td>\n",
       "      <td>0.057720</td>\n",
       "      <td>0.976238</td>\n",
       "      <td>00:00</td>\n",
       "    </tr>\n",
       "    <tr>\n",
       "      <td>44</td>\n",
       "      <td>0.035347</td>\n",
       "      <td>0.045603</td>\n",
       "      <td>0.980198</td>\n",
       "      <td>00:00</td>\n",
       "    </tr>\n",
       "    <tr>\n",
       "      <td>45</td>\n",
       "      <td>0.037973</td>\n",
       "      <td>0.057288</td>\n",
       "      <td>0.976238</td>\n",
       "      <td>00:00</td>\n",
       "    </tr>\n",
       "    <tr>\n",
       "      <td>46</td>\n",
       "      <td>0.037251</td>\n",
       "      <td>0.040193</td>\n",
       "      <td>0.980198</td>\n",
       "      <td>00:01</td>\n",
       "    </tr>\n",
       "    <tr>\n",
       "      <td>47</td>\n",
       "      <td>0.035409</td>\n",
       "      <td>0.061111</td>\n",
       "      <td>0.978218</td>\n",
       "      <td>00:01</td>\n",
       "    </tr>\n",
       "    <tr>\n",
       "      <td>48</td>\n",
       "      <td>0.031897</td>\n",
       "      <td>0.041038</td>\n",
       "      <td>0.982178</td>\n",
       "      <td>00:01</td>\n",
       "    </tr>\n",
       "    <tr>\n",
       "      <td>49</td>\n",
       "      <td>0.037280</td>\n",
       "      <td>0.057881</td>\n",
       "      <td>0.980198</td>\n",
       "      <td>00:01</td>\n",
       "    </tr>\n",
       "    <tr>\n",
       "      <td>50</td>\n",
       "      <td>0.027024</td>\n",
       "      <td>0.052810</td>\n",
       "      <td>0.979208</td>\n",
       "      <td>00:00</td>\n",
       "    </tr>\n",
       "    <tr>\n",
       "      <td>51</td>\n",
       "      <td>0.032185</td>\n",
       "      <td>0.042938</td>\n",
       "      <td>0.983168</td>\n",
       "      <td>00:01</td>\n",
       "    </tr>\n",
       "  </tbody>\n",
       "</table>"
      ],
      "text/plain": [
       "<IPython.core.display.HTML object>"
      ]
     },
     "metadata": {},
     "output_type": "display_data"
    },
    {
     "data": {
      "image/png": "[encoded data removed]",
      "text/plain": [
       "<Figure size 640x480 with 1 Axes>"
      ]
     },
     "metadata": {},
     "output_type": "display_data"
    },
    {
     "data": {
      "image/png": "[encoded data removed]",
      "text/plain": [
       "<Figure size 2000x400 with 3 Axes>"
      ]
     },
     "metadata": {},
     "output_type": "display_data"
    },
    {
     "name": "stdout",
     "output_type": "stream",
     "text": [
      "time= 61.51081657409668\n",
      "No. of trainable parameters= 2950\n",
      "train loss = 0.03218454495072365, valid loss = 0.04293780401349068\n",
      "FlattenedLoss of BCEWithLogitsLoss()\n"
     ]
    },
    {
     "data": {
      "image/png": "[encoded data removed]",
      "text/plain": [
       "<Figure size 640x480 with 1 Axes>"
      ]
     },
     "metadata": {},
     "output_type": "display_data"
    }
   ],
   "source": [
    "######## remove sigmoid from the network*****************\n",
    "\n",
    "\n",
    "# tfms  = [None, Categorize()] ## single label\n",
    "tfms  = [None, MultiCategorize()] ## multi label\n",
    "batch_tfms = TSStandardize()\n",
    "\n",
    "## single label\n",
    "# tsets = TSDatasets(x_train, y_train[:,0], tfms=tfms, inplace=True)\n",
    "# vsets = TSDatasets(x_valid, y_valid[:,0], tfms=tfms, inplace=True)\n",
    "## multi label\n",
    "tsets = TSDatasets(x_train, y_train, tfms=tfms, inplace=True)\n",
    "vsets = TSDatasets(x_valid, y_valid, tfms=tfms, inplace=True)\n",
    "######################\n",
    "dls   = TSDataLoaders.from_dsets(tsets, vsets, bs = bs, num_workers=num_workers)#,batch_tfms=batch_tfms) ### note the normalization\n",
    "\n",
    "\n",
    "#############################################################\n",
    "k = {'hidden_size':22,'rnn_dropout':0.4}\n",
    "network = 'LSTM'\n",
    "\n",
    "model = create_model(MyLSTM, dls.vars,dls.c,dls,**k)\n",
    "# learn = Learner(dls, model, metrics=accuracy,cbs = ShowGraph()) ### single label\n",
    "#### note the accuracy_multi and MultiCategorize() contains BCEwithlogits not normal BCE\n",
    "learn = Learner(dls, model, metrics=accuracy_multi,cbs = ShowGraph()) ### multi label\n",
    "\n",
    "\n",
    "###########################################################################\n",
    "start = time.time()\n",
    "learn.fit_one_cycle(epochs,learn.lr_find().valley,cbs = EarlyStoppingCallback(monitor='valid_loss', min_delta=0.00001, patience=5)) ## learning rate annealing\n",
    "elapsed = time.time()-start\n",
    "print(f'time= {elapsed}')\n",
    "print(f'No. of trainable parameters= {count_parameters(model)}')\n",
    "print(f'train loss = {learn.recorder.values[-1][0]}, valid loss = {learn.recorder.values[-1][1]}')\n",
    "plt.figure()\n",
    "plt.plot(learn.recorder.lrs)\n",
    "\n",
    "print(learn.loss_func)\n",
    "metrics = np.array(learn.recorder.values)\n",
    "\n",
    "# save the model as state dictionary \n",
    "torch.save(learn.model.state_dict(), f'{learn.model._get_name()}.pt')\n"
   ]
  },
  {
   "attachments": {},
   "cell_type": "markdown",
   "metadata": {},
   "source": [
    "To read already available networks"
   ]
  },
  {
   "cell_type": "code",
   "execution_count": 12,
   "metadata": {},
   "outputs": [],
   "source": [
    "# tfms  = [None, MultiCategorize()] ## multi label\n",
    "# batch_tfms = TSStandardize()\n",
    "\n",
    "# ## single label\n",
    "# # tsets = TSDatasets(x_train, y_train[:,0], tfms=tfms, inplace=True)\n",
    "# # vsets = TSDatasets(x_valid, y_valid[:,0], tfms=tfms, inplace=True)\n",
    "# ## multi label\n",
    "# tsets = TSDatasets(x_train, y_train, tfms=tfms, inplace=True)\n",
    "# vsets = TSDatasets(x_valid, y_valid, tfms=tfms, inplace=True)\n",
    "# ######################\n",
    "# dls   = TSDataLoaders.from_dsets(tsets, vsets, bs = bs, num_workers=num_workers)#,batch_tfms=batch_tfms) ### note the normalization\n",
    "\n",
    "\n",
    "# k = {'hidden_size':22,'rnn_dropout':0.4}\n",
    "# network = 'LSTM'\n",
    "\n",
    "\n",
    "# # load \n",
    "# pretrained_dict = torch.load(f'/afs/tu-chemnitz.de/home/urz/a/abom/internship/models/{MyLSTM.__name__}.pt')\n",
    "# model = create_model(MyLSTM, dls.vars,dls.c,dls,**k)\n",
    "# model.load_state_dict(pretrained_dict)\n",
    "\n",
    "# # learn = Learner(dls, model, metrics=accuracy,cbs = ShowGraph()) ### single label\n",
    "# #### note the accuracy_multi and MultiCategorize() contains BCEwithlogits not normal BCE\n",
    "# learn = Learner(dls, model, metrics=accuracy_multi,cbs = ShowGraph()) ### multi label"
   ]
  },
  {
   "attachments": {},
   "cell_type": "markdown",
   "metadata": {},
   "source": [
    "**EVALUATION ON TEST DATA SET + Using PR curves**"
   ]
  },
  {
   "cell_type": "code",
   "execution_count": 13,
   "metadata": {},
   "outputs": [
    {
     "data": {
      "text/html": [],
      "text/plain": [
       "<IPython.core.display.HTML object>"
      ]
     },
     "metadata": {},
     "output_type": "display_data"
    },
    {
     "name": "stdout",
     "output_type": "stream",
     "text": [
      "Accuracy [Both]: 94.55782\n",
      "Accuracy [person]: 96.25850\n",
      "Accuracy [window_open]: 98.29932\n"
     ]
    },
    {
     "data": {
      "image/png": "[encoded data removed]",
      "text/plain": [
       "<Figure size 900x400 with 2 Axes>"
      ]
     },
     "metadata": {},
     "output_type": "display_data"
    },
    {
     "name": "stdout",
     "output_type": "stream",
     "text": [
      "F1 score [person]: 0.9090909090909091\n",
      "\n",
      "precision [person]: 0.8333333333333334\n",
      "\n",
      "recall [person]: 1.0\n",
      "\n",
      "F1 score [window]: 0.9425287356321839\n",
      "\n",
      "precision [window]: 0.8913043478260869\n",
      "\n",
      "recall [window]: 1.0\n",
      "\n"
     ]
    }
   ],
   "source": [
    "#### Adding dataset to apply same dls valid tfms on test\n",
    "\n",
    "### standardize test set with train parameters (apply Multicategorize transform)\n",
    "test_set = TSDatasets(x_test, y_test, tfms=tfms, inplace=True) # multi_label\n",
    "# test_set = TSDatasets(x_test, y_test[:,0], tfms=tfms, inplace=True) # single_label\n",
    "test_dl   = TSDataLoader(test_set, bs = bs, num_workers=num_workers)#,batch_tfms=batch_tfms) ### note the normalization\n",
    "# next(iter(test_dl))\n",
    " \n",
    "\n",
    "#### evaluating\n",
    "\n",
    "test_probas, test_targets, test_preds = learn.get_preds(dl=test_dl,with_decoded=True)#,reorder = False)\n",
    "test_preds = test_preds.long() ### to convert bool to int\n",
    "\n",
    "###############################################################################################\n",
    "###### use PR curve to get best threshold for each class on given test set\n",
    "##############################################################################################\n",
    "# # # class person\n",
    "# # threshold_person, _ = plot_PR_curve('person',test_targets[:,0],test_probas[:,0])\n",
    "# # ### class window_open\n",
    "# # threshold_window, _ =plot_PR_curve('window',test_targets[:,1],test_probas[:,1])\n",
    "# threshold_person,threshold_window = plot_PR_curve_both(test_targets,test_probas)\n",
    "# test_preds[:,0] = (test_probas[:,0]>=threshold_person)\n",
    "# test_preds[:,1] = (test_probas[:,1]>=threshold_window)\n",
    "#################################################################################################\n",
    "\n",
    "## single label\n",
    "### number of classes in validation set\n",
    "# n_classes = pd.DataFrame(test_targets).value_counts().shape[0]\n",
    "# plot_confusion(test_targets,test_preds,n_classes,name = 'person')\n",
    "# print(f'Accuracy: {(test_targets == test_preds).float().mean():0.5f}')  \n",
    "# print(f'F1 score: {f1_score(test_targets,test_preds)}\\n') # to get f1 score for each class use (average=None)\n",
    "# print(f'precision: {precision_score(test_targets,test_preds)}\\n') \n",
    "# print(f'recall: {recall_score(test_targets,test_preds)}\\n') \n",
    "\n",
    "## multi label\n",
    "print(f'Accuracy [Both]: {(100/test_targets.shape[0])*torch.all((test_preds == test_targets),dim=1).sum():0.5f}') ## multi-label\n",
    "print(f'Accuracy [person]: {(100/test_targets.shape[0])*(test_preds[:,0] == test_targets[:,0]).sum():0.5f}') ## multi-label\n",
    "print(f'Accuracy [window_open]: {(100/test_targets.shape[0])*(test_preds[:,1] == test_targets[:,1]).sum():0.5f}') ## multi-label\n",
    "n_classes = test_targets.shape[1]\n",
    "\n",
    "## confusion matrices\n",
    "plot_confusion_both(test_targets,test_preds,n_classes)\n",
    "## person class\n",
    "# plot_confusion(test_targets[:,0],test_preds[:,0],n_classes,name = 'person')\n",
    "print(f'F1 score [person]: {f1_score(test_targets[:,0],test_preds[:,0])}\\n')\n",
    "print(f'precision [person]: {precision_score(test_targets[:,0],test_preds[:,0])}\\n') \n",
    "print(f'recall [person]: {recall_score(test_targets[:,0],test_preds[:,0])}\\n') \n",
    "\n",
    "### window class\n",
    "# plot_confusion(test_targets[:,1],test_preds[:,1],n_classes,name = 'window')\n",
    "print(f'F1 score [window]: {f1_score(test_targets[:,1],test_preds[:,1])}\\n') \n",
    "print(f'precision [window]: {precision_score(test_targets[:,1],test_preds[:,1])}\\n') \n",
    "print(f'recall [window]: {recall_score(test_targets[:,1],test_preds[:,1])}\\n') \n"
   ]
  },
  {
   "attachments": {},
   "cell_type": "markdown",
   "metadata": {},
   "source": [
    "**investigate distribution of wrong predictions, and smoothing** "
   ]
  },
  {
   "cell_type": "code",
   "execution_count": null,
   "metadata": {},
   "outputs": [],
   "source": [
    "#### single label\n",
    "# ## plot targets vs predictions person\n",
    "# plot_distribution(test_targets,test_preds,'person')\n",
    "# ## plot FP, FN \n",
    "# plot_fp_fn(test_targets,test_preds,'person')\n",
    "#############################################################################################################\n",
    "### smoothing\n",
    "# test_preds = smoothing_predictions(test_preds,2)\n",
    "###############################################################################################################\n",
    "#### multi label\n",
    "plot_distribution_both(test_targets,test_preds, network)\n"
   ]
  },
  {
   "cell_type": "markdown",
   "metadata": {},
   "source": [
    "**optuna for HP optimization**"
   ]
  },
  {
   "cell_type": "markdown",
   "metadata": {},
   "source": [
    "load yaml file"
   ]
  },
  {
   "cell_type": "code",
   "execution_count": null,
   "metadata": {},
   "outputs": [],
   "source": [
    "with open('config.yaml') as f:\n",
    "    hyperparams = yaml.load(f,SafeLoader)\n",
    "epochs = hyperparams['optuna']['epochs']\n",
    "optuna_trials = hyperparams['optuna']['trials']\n",
    "bs = hyperparams['model']['bs']\n",
    "num_workers = hyperparams['model']['num_workers']"
   ]
  },
  {
   "attachments": {},
   "cell_type": "markdown",
   "metadata": {},
   "source": [
    "optimize (notice freeze for autoencoder)"
   ]
  },
  {
   "cell_type": "code",
   "execution_count": null,
   "metadata": {},
   "outputs": [],
   "source": [
    "\n",
    "\n",
    "# tfms  = [None, MultiCategorize()] \n",
    "# batch_tfms = TSStandardize()\n",
    "\n",
    "\n",
    "# tsets = TSDatasets(x_train, y_train, tfms=tfms, inplace=True)\n",
    "# vsets = TSDatasets(x_test, y_test, tfms=tfms, inplace=True)\n",
    "# dls   = TSDataLoaders.from_dsets(tsets, vsets, bs = bs, num_workers=num_workers)#,batch_tfms=batch_tfms) ### note the normalization\n",
    "\n",
    "\n",
    "# def objective(trial:optuna.Trial):\n",
    "#     # Define search space here. Supported search space are \n",
    "\n",
    "#     rnn_dropout = trial.suggest_float(\"rnn_dropout\", 0.1, 0.5, step = 0.1)\n",
    "#     hidden_size = trial.suggest_int('hidden_size',10,30,step = 2)\n",
    "    \n",
    "\n",
    "#     # lr = trial.suggest_float(\"Learning_rate\", 1e-8, 1e-6, log=True)\n",
    "\n",
    "\n",
    "#     k = {'hidden_size':hidden_size,'rnn_dropout':rnn_dropout}\n",
    "\n",
    "#     model = create_model(MyLSTM, dls.vars,dls.c,dls,**k)\n",
    "#     #### note the F1_multi and MultiCategorize() contains BCEwithlogits not normal BCE\n",
    "#     learn = Learner(dls, model, metrics=F1_multi)\n",
    " \n",
    "#     ######################################\n",
    "#     learn.fit_one_cycle(epochs,learn.lr_find().valley) ## learning rate annealing\n",
    "            \n",
    "#     # return the F1 score - learn.recorder.values returns [[train_loss, valid_loss, F1_multi]]\n",
    "#     return learn.recorder.values[-1][-1]\n",
    "\n",
    "#     # return the valid_loss - learn.recorder.values returns [[train_loss, valid_loss, acc]]\n",
    "#     # return learn.recorder.values[-1][1]"
   ]
  },
  {
   "cell_type": "code",
   "execution_count": null,
   "metadata": {},
   "outputs": [],
   "source": [
    "# study = optuna.create_study(direction='maximize', pruner=optuna.pruners.HyperbandPruner())\n",
    "# study.optimize(objective, n_trials=optuna_trials, show_progress_bar=False)"
   ]
  },
  {
   "cell_type": "code",
   "execution_count": null,
   "metadata": {},
   "outputs": [],
   "source": [
    "# print(\"Study statistics: \")\n",
    "# print(\"  Number of finished trials: \", len(study.trials))\n",
    "\n",
    "# print(\"Best trial:\")\n",
    "# trial = study.best_trial\n",
    "\n",
    "# print(\"  Value: \", trial.value)\n",
    "\n",
    "# print(\"  Params: \")\n",
    "# for key, value in trial.params.items():\n",
    "#     print(\"    {}: {}\".format(key, value))"
   ]
  }
 ],
 "metadata": {
  "kernelspec": {
   "display_name": "Python 3 (ipykernel)",
   "language": "python",
   "name": "python3"
  },
  "language_info": {
   "codemirror_mode": {
    "name": "ipython",
    "version": 3
   },
   "file_extension": ".py",
   "mimetype": "text/x-python",
   "name": "python",
   "nbconvert_exporter": "python",
   "pygments_lexer": "ipython3",
   "version": "3.9.13"
  },
  "vscode": {
   "interpreter": {
    "hash": "9896e4719c177e73e0a92dd62787cd74e9c19ae40be169094c16f2e556b6c4a5"
   }
  }
 },
 "nbformat": 4,
 "nbformat_minor": 2
}
